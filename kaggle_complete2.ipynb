{
  "nbformat": 4,
  "nbformat_minor": 0,
  "metadata": {
    "colab": {
      "provenance": [],
      "name": "kaggle_complete2.ipynb",
      "authorship_tag": "ABX9TyOOcyh9fjTr4b8vhO7aiOfN",
      "include_colab_link": true
    },
    "kernelspec": {
      "name": "python3",
      "display_name": "Python 3"
    },
    "language_info": {
      "name": "python"
    }
  },
  "cells": [
    {
      "cell_type": "markdown",
      "metadata": {
        "id": "view-in-github",
        "colab_type": "text"
      },
      "source": [
        "<a href=\"https://colab.research.google.com/github/DmtrRm/IAAC2024_tutorials/blob/main/kaggle_complete2.ipynb\" target=\"_parent\"><img src=\"https://colab.research.google.com/assets/colab-badge.svg\" alt=\"Open In Colab\"/></a>"
      ]
    },
    {
      "cell_type": "markdown",
      "source": [
        "**LIBRARIES IMPORT**"
      ],
      "metadata": {
        "id": "SzgArP8aRiir"
      }
    },
    {
      "cell_type": "code",
      "execution_count": 215,
      "metadata": {
        "id": "OHtDLQlSRgAj"
      },
      "outputs": [],
      "source": [
        "import calendar\n",
        "from datetime import datetime, timedelta\n",
        "from matplotlib import pyplot as plt\n",
        "import numpy as np\n",
        "import os\n",
        "import pandas as pd\n",
        "import seaborn as sns\n",
        "\n",
        "from sklearn.preprocessing import LabelEncoder\n",
        "from sklearn.ensemble import RandomForestRegressor\n",
        "from sklearn.tree import DecisionTreeRegressor\n",
        "from sklearn.neighbors import KNeighborsRegressor\n",
        "from sklearn.preprocessing import MinMaxScaler"
      ]
    },
    {
      "cell_type": "markdown",
      "source": [
        "**FUNCTIONS THAT WILL BE USED**"
      ],
      "metadata": {
        "id": "kryeDjrXru74"
      }
    },
    {
      "cell_type": "code",
      "source": [
        "def encode_binary_categorical(data_set):\n",
        "  binary_Lbls=[]\n",
        "  categor_Lbls=[]\n",
        "\n",
        "  for c in data_set.columns:\n",
        "\n",
        "    if len(data_set[c].unique())<=3 and any(x==\"Yes\" for x in data_set[c].unique()):\n",
        "      le=LabelEncoder()\n",
        "      res =le.fit_transform(data_set[c])\n",
        "      data_set[c]=1-res\n",
        "      binary_Lbls.append(c)\n",
        "\n",
        "    elif data_set[c].dtype==\"object\" and c != \"day\":\n",
        "      le=LabelEncoder()\n",
        "      res =le.fit_transform(data_set[c])\n",
        "      data_set[c]=res\n",
        "      categor_Lbls.append(c)\n",
        "\n",
        "  return categor_Lbls"
      ],
      "metadata": {
        "id": "_5cP2z3crlII"
      },
      "execution_count": 216,
      "outputs": []
    },
    {
      "cell_type": "code",
      "source": [
        "def find_pair_list(corralation,cor_value):\n",
        "\n",
        "\n",
        "  pair_list=[]\n",
        "  x=corralation.shape[0]\n",
        "  y=corralation.shape[1]\n",
        "\n",
        "  for i in range(0,x):\n",
        "    for j in range(0,y):\n",
        "      if (corralation.iloc[i,j]>=cor_value or corralation.iloc[i,j]<=(-cor_value)) and corralation.iloc[i,j]!=1 :\n",
        "        pair_list=pair_list+[(sorted([corralation.columns[i], corralation.columns[j]]))]\n",
        "\n",
        "  groups = []\n",
        "\n",
        "  for pair in pair_list:\n",
        "    added_to_group = False\n",
        "    for group in groups:\n",
        "      if any(variable in group for variable in pair):\n",
        "        group.extend(pair)\n",
        "        group = list(set(group))\n",
        "        added_to_group = True\n",
        "        break\n",
        "    if not added_to_group:\n",
        "      groups.append(pair)\n",
        "\n",
        "  result = [list(set(group)) for group in groups]\n",
        "  return result"
      ],
      "metadata": {
        "id": "DObws_uBroGH"
      },
      "execution_count": 217,
      "outputs": []
    },
    {
      "cell_type": "code",
      "source": [
        "def data_cleaning(i):\n",
        "\n",
        "\n",
        "## dropping same value clm\n",
        "  for c in i.columns:\n",
        "   if len(i[c].unique())==1:\n",
        "    i=i.drop([c], axis=1)\n",
        "\n",
        "## encoding\n",
        "  cLbls_i=encode_binary_categorical(i)\n",
        "\n",
        "## droping dublicates\n",
        "  result_i=find_pair_list(i.corr(),0.9)\n",
        "  print(result_i)\n",
        "  columns_to_drop = sum([x[0:-1] for x in result_i],[])\n",
        "  i=i.drop(columns=columns_to_drop)\n",
        "\n",
        "## filling the NaN\n",
        "  cols_to_drop = []\n",
        "  for c in i.columns:\n",
        "    if len(i[c].isna().unique())>1:\n",
        "      cols_to_drop.append(c)\n",
        "  print(cols_to_drop)\n",
        "\n",
        "  if not cols_to_drop==False:\n",
        "    for n in cols_to_drop:\n",
        "      X = i.loc[i[n].isna()==False].drop(columns=cols_to_drop)\n",
        "      Y = i.loc[i[n].isna()==False][n]\n",
        "      missing_X = i.loc[i[n].isna()].drop(columns=cols_to_drop)\n",
        "      tree = DecisionTreeRegressor()\n",
        "      tree.fit(X, Y)\n",
        "\n",
        "      zipped = [(x, i) for i,x in sorted(zip(tree.feature_importances_, X), reverse=True)]\n",
        "\n",
        "      i[n].loc[i[n].isna()] = tree.predict(missing_X).astype(int)\n",
        "\n",
        "  return i"
      ],
      "metadata": {
        "id": "rfmITbbQxI_h"
      },
      "execution_count": 218,
      "outputs": []
    },
    {
      "cell_type": "code",
      "source": [
        "def split_time_data(df:pd.DataFrame):\n",
        "    _df = df.sort_values(by=[\"day\"])\n",
        "    split_percent = 0.8\n",
        "\n",
        "    X = _df.drop(columns=[target]).loc[_df[target].isna()==False]\n",
        "    Y = _df[target].loc[_df[target].isna()==False]\n",
        "\n",
        "    X_train = X[:int(X.shape[0] * split_percent)].drop(columns=[\"day\"])\n",
        "    X_valid = X[int(X.shape[0] * split_percent):].drop(columns=[\"day\"])\n",
        "    Y_train = Y[:int(X.shape[0] * split_percent)]\n",
        "    Y_valid = Y[int(X.shape[0] * split_percent):]\n",
        "\n",
        "    return X_train, X_valid, Y_train, Y_valid"
      ],
      "metadata": {
        "id": "zqdMHvb_awpE"
      },
      "execution_count": 219,
      "outputs": []
    },
    {
      "cell_type": "code",
      "source": [
        "def make_shifts(df, shifts=3):\n",
        "    _df_sorted = df.sort_values(by=[\"building_id\", \"meter\", \"day\"])\n",
        "    _lags = pd.DataFrame({\"lag_{}\".format(i): _df_sorted[target].shift(i+1) for i in range(shifts)})\n",
        "    _df_sorted_lags = pd.concat([_df_sorted, _lags], axis=1)\n",
        "\n",
        "    \"\"\"\n",
        "    Since we have changed the order of the rows, all the buildings except for the first one will get the input from another building on the first day.\n",
        "    Let's fix it and assign a missing value to the first day lag:\n",
        "    \"\"\"\n",
        "    for i in range(shifts):\n",
        "        for j in range(0, i+1):\n",
        "            _df_sorted_lags.loc[_df_sorted_lags[\"day\"]==_df_sorted_lags[\"day\"]- timedelta(days=int(j)), \"lag_{}\".format(i)] = 0\n",
        "\n",
        "    _df_sorted_lags = _df_sorted_lags.sort_index(axis=0)\n",
        "    return _df_sorted_lags"
      ],
      "metadata": {
        "id": "QXtx3UDkdVBc"
      },
      "execution_count": 220,
      "outputs": []
    },
    {
      "cell_type": "code",
      "source": [
        "def return_lags(day, bid, meter, shifts):\n",
        "    \"\"\"\n",
        "    Function to generate lags from the existing values and predictions.\n",
        "\n",
        "    day = total_df[\"day\"].iloc[122]\n",
        "\n",
        "    Our original format was {'lag_{}'.format(ii): Y_train.shift(ii) for ii in shifts}\n",
        "    \"\"\"\n",
        "    # conditions to filter the df on\n",
        "    res = {}\n",
        "    for shift in range(shifts):\n",
        "        try:\n",
        "            res['lag_{}'.format(shift)] = (total_df.loc[\n",
        "                (total_df[\"building_id\"]==bid) &\n",
        "                (total_df[\"day\"]==day - timedelta(days=int(shift+1))) &\n",
        "                (total_df[\"meter\"]==meter)][\"meter_reading\"].values[0])\n",
        "        except Exception as e:\n",
        "            res['lag_{}'.format(shift)] = 0\n",
        "    return res"
      ],
      "metadata": {
        "id": "bVHCwQ5Ee1rE"
      },
      "execution_count": 221,
      "outputs": []
    },
    {
      "cell_type": "code",
      "source": [
        "def return_datedFrame(dataFrame):\n",
        "  dataFrame[\"day\"] = dataFrame[\"day\"].apply(lambda s: datetime.strptime(s, \"%Y-%m-%d\"))\n",
        "  dataFrame[\"year\"] = dataFrame[\"day\"].apply(lambda s: s.year)\n",
        "  dataFrame[\"month\"] = dataFrame[\"day\"].apply(lambda s: s.month)\n",
        "  dataFrame[\"day_number\"] = dataFrame[\"day\"].apply(lambda s: s.day)\n",
        "  dataFrame[\"weekday\"] = dataFrame[\"day\"].apply(lambda s: s.weekday() in [5,6])\n",
        "  return dataFrame"
      ],
      "metadata": {
        "id": "n1ii9P5Tmb3R"
      },
      "execution_count": 222,
      "outputs": []
    },
    {
      "cell_type": "markdown",
      "source": [
        "**DATA UPLOADING**"
      ],
      "metadata": {
        "id": "kIT9wLqmRoCq"
      }
    },
    {
      "cell_type": "code",
      "source": [
        "metadata = pd.read_csv(\"/content/DATA/metadata.csv\", index_col=0)\n",
        "meters = pd.read_csv(\"/content/DATA/meters.csv\", index_col=0)\n",
        "test = pd.read_csv(\"/content/DATA/test.csv\", index_col=0)\n",
        "train = pd.read_csv(\"/content/DATA/train.csv\", index_col=0)\n",
        "weather = pd.read_csv(\"/content/DATA/weather.csv\", index_col=0)"
      ],
      "metadata": {
        "id": "QneatCYXTQ3j"
      },
      "execution_count": 238,
      "outputs": []
    },
    {
      "cell_type": "code",
      "source": [
        "metadata = metadata.drop(columns=\"site_id_kaggle\")"
      ],
      "metadata": {
        "id": "RpQijX_3YH0T"
      },
      "execution_count": 239,
      "outputs": []
    },
    {
      "cell_type": "code",
      "source": [
        "weather[['day', 'time']] = weather['timestamp'].str.split(' ', expand=True)\n",
        "weather = weather.drop(columns='timestamp')"
      ],
      "metadata": {
        "id": "16rIFyWg-KGe"
      },
      "execution_count": 240,
      "outputs": []
    },
    {
      "cell_type": "code",
      "source": [
        "##dropping day\n",
        "wth_day = weather[\"day\"]\n",
        "weather=weather.drop(columns=\"day\")\n",
        "\n",
        "train_day = train[\"day\"]\n",
        "train=train.drop(columns=\"day\")"
      ],
      "metadata": {
        "id": "nBQDd8epOt8q"
      },
      "execution_count": 241,
      "outputs": []
    },
    {
      "cell_type": "markdown",
      "source": [
        "**DATA CLEANING**"
      ],
      "metadata": {
        "id": "BHOBSxeerfBe"
      }
    },
    {
      "cell_type": "code",
      "source": [
        "metadata = data_cleaning(metadata)\n",
        "train = data_cleaning(train)\n",
        "weather = data_cleaning(weather)"
      ],
      "metadata": {
        "colab": {
          "base_uri": "https://localhost:8080/"
        },
        "id": "n6P4KUjkEZmo",
        "outputId": "afa03e35-3240-4112-a9bf-d6406d2f25e4"
      },
      "execution_count": 242,
      "outputs": [
        {
          "output_type": "stream",
          "name": "stdout",
          "text": [
            "[['sqft', 'sqm'], ['timezone', 'lng', 'heatingtype', 'lat']]\n",
            "['yearbuilt', 'numberoffloors', 'occupants']\n",
            "[]\n",
            "[]\n"
          ]
        },
        {
          "output_type": "stream",
          "name": "stderr",
          "text": [
            "<ipython-input-218-7fc57c5a7bb4>:35: SettingWithCopyWarning: \n",
            "A value is trying to be set on a copy of a slice from a DataFrame\n",
            "\n",
            "See the caveats in the documentation: https://pandas.pydata.org/pandas-docs/stable/user_guide/indexing.html#returning-a-view-versus-a-copy\n",
            "  i[n].loc[i[n].isna()] = tree.predict(missing_X).astype(int)\n",
            "<ipython-input-218-7fc57c5a7bb4>:35: SettingWithCopyWarning: \n",
            "A value is trying to be set on a copy of a slice from a DataFrame\n",
            "\n",
            "See the caveats in the documentation: https://pandas.pydata.org/pandas-docs/stable/user_guide/indexing.html#returning-a-view-versus-a-copy\n",
            "  i[n].loc[i[n].isna()] = tree.predict(missing_X).astype(int)\n",
            "<ipython-input-218-7fc57c5a7bb4>:35: SettingWithCopyWarning: \n",
            "A value is trying to be set on a copy of a slice from a DataFrame\n",
            "\n",
            "See the caveats in the documentation: https://pandas.pydata.org/pandas-docs/stable/user_guide/indexing.html#returning-a-view-versus-a-copy\n",
            "  i[n].loc[i[n].isna()] = tree.predict(missing_X).astype(int)\n"
          ]
        },
        {
          "output_type": "stream",
          "name": "stdout",
          "text": [
            "[]\n",
            "['airTemperature', 'cloudCoverage', 'dewTemperature', 'precipDepth6HR', 'seaLvlPressure', 'windDirection', 'windSpeed']\n"
          ]
        },
        {
          "output_type": "stream",
          "name": "stderr",
          "text": [
            "<ipython-input-218-7fc57c5a7bb4>:35: SettingWithCopyWarning: \n",
            "A value is trying to be set on a copy of a slice from a DataFrame\n",
            "\n",
            "See the caveats in the documentation: https://pandas.pydata.org/pandas-docs/stable/user_guide/indexing.html#returning-a-view-versus-a-copy\n",
            "  i[n].loc[i[n].isna()] = tree.predict(missing_X).astype(int)\n",
            "<ipython-input-218-7fc57c5a7bb4>:35: SettingWithCopyWarning: \n",
            "A value is trying to be set on a copy of a slice from a DataFrame\n",
            "\n",
            "See the caveats in the documentation: https://pandas.pydata.org/pandas-docs/stable/user_guide/indexing.html#returning-a-view-versus-a-copy\n",
            "  i[n].loc[i[n].isna()] = tree.predict(missing_X).astype(int)\n",
            "<ipython-input-218-7fc57c5a7bb4>:35: SettingWithCopyWarning: \n",
            "A value is trying to be set on a copy of a slice from a DataFrame\n",
            "\n",
            "See the caveats in the documentation: https://pandas.pydata.org/pandas-docs/stable/user_guide/indexing.html#returning-a-view-versus-a-copy\n",
            "  i[n].loc[i[n].isna()] = tree.predict(missing_X).astype(int)\n",
            "<ipython-input-218-7fc57c5a7bb4>:35: SettingWithCopyWarning: \n",
            "A value is trying to be set on a copy of a slice from a DataFrame\n",
            "\n",
            "See the caveats in the documentation: https://pandas.pydata.org/pandas-docs/stable/user_guide/indexing.html#returning-a-view-versus-a-copy\n",
            "  i[n].loc[i[n].isna()] = tree.predict(missing_X).astype(int)\n",
            "<ipython-input-218-7fc57c5a7bb4>:35: SettingWithCopyWarning: \n",
            "A value is trying to be set on a copy of a slice from a DataFrame\n",
            "\n",
            "See the caveats in the documentation: https://pandas.pydata.org/pandas-docs/stable/user_guide/indexing.html#returning-a-view-versus-a-copy\n",
            "  i[n].loc[i[n].isna()] = tree.predict(missing_X).astype(int)\n",
            "<ipython-input-218-7fc57c5a7bb4>:35: SettingWithCopyWarning: \n",
            "A value is trying to be set on a copy of a slice from a DataFrame\n",
            "\n",
            "See the caveats in the documentation: https://pandas.pydata.org/pandas-docs/stable/user_guide/indexing.html#returning-a-view-versus-a-copy\n",
            "  i[n].loc[i[n].isna()] = tree.predict(missing_X).astype(int)\n",
            "<ipython-input-218-7fc57c5a7bb4>:35: SettingWithCopyWarning: \n",
            "A value is trying to be set on a copy of a slice from a DataFrame\n",
            "\n",
            "See the caveats in the documentation: https://pandas.pydata.org/pandas-docs/stable/user_guide/indexing.html#returning-a-view-versus-a-copy\n",
            "  i[n].loc[i[n].isna()] = tree.predict(missing_X).astype(int)\n"
          ]
        }
      ]
    },
    {
      "cell_type": "code",
      "source": [
        "## inserting day\n",
        "weather.insert(loc=1, column='day', value=wth_day)\n",
        "train.insert(loc=1, column='day', value=train_day)\n",
        "\n"
      ],
      "metadata": {
        "id": "HnXEDC87SZTz"
      },
      "execution_count": 243,
      "outputs": []
    },
    {
      "cell_type": "code",
      "source": [
        "weather = return_datedFrame(weather)\n",
        "train = return_datedFrame(train)\n",
        "test = return_datedFrame(test)"
      ],
      "metadata": {
        "id": "KPQuPHFaT4lc"
      },
      "execution_count": 244,
      "outputs": []
    },
    {
      "cell_type": "code",
      "source": [
        "site_ids = weather[\"site_id\"].unique()\n",
        "dfs = []\n",
        "\n",
        "for site_id in site_ids:\n",
        "    w_stats = weather.loc[weather[\"site_id\"]==site_id].set_index(\"day\").resample('D')[['airTemperature',\n",
        "                                                                        \"windSpeed\"]].agg(['min', 'max', \"mean\"]).to_records()\n",
        "    w_stats_df = pd.DataFrame(w_stats)\n",
        "    w_stats_df[\"site_id\"] = site_id\n",
        "    dfs.append(w_stats_df)\n",
        "\n",
        "w_df = pd.concat(dfs, axis=0)  # concatenating the resulting dataframes to have one\n",
        "\n",
        "print(\"Shape:\", w_df.shape)\n",
        "w_df.head()"
      ],
      "metadata": {
        "colab": {
          "base_uri": "https://localhost:8080/",
          "height": 327
        },
        "id": "P3SsOzFoSMHj",
        "outputId": "cbb9f20d-5aae-4e50-a45a-188dff90ad19"
      },
      "execution_count": 245,
      "outputs": [
        {
          "output_type": "stream",
          "name": "stdout",
          "text": [
            "Shape: (3495, 8)\n"
          ]
        },
        {
          "output_type": "execute_result",
          "data": {
            "text/plain": [
              "         day  ('airTemperature', 'min')  ('airTemperature', 'max')  \\\n",
              "0 2016-02-01                        9.1                       14.2   \n",
              "1 2016-02-02                        6.0                       12.0   \n",
              "2 2016-02-03                        8.1                       13.9   \n",
              "3 2016-02-04                        2.4                       10.4   \n",
              "4 2016-02-05                        9.8                       12.7   \n",
              "\n",
              "   ('airTemperature', 'mean')  ('windSpeed', 'min')  ('windSpeed', 'max')  \\\n",
              "0                   11.782609                   2.9                  10.4   \n",
              "1                    9.700000                   2.7                  13.0   \n",
              "2                   12.004167                   5.8                  13.1   \n",
              "3                    6.925000                   3.1                  10.7   \n",
              "4                   11.591667                   9.0                  13.5   \n",
              "\n",
              "   ('windSpeed', 'mean')  site_id  \n",
              "0               6.343478        3  \n",
              "1               8.266667        3  \n",
              "2               9.887500        3  \n",
              "3               6.433333        3  \n",
              "4              10.316667        3  "
            ],
            "text/html": [
              "\n",
              "  <div id=\"df-47d5234f-1d51-4ce8-a222-6c1da3303046\" class=\"colab-df-container\">\n",
              "    <div>\n",
              "<style scoped>\n",
              "    .dataframe tbody tr th:only-of-type {\n",
              "        vertical-align: middle;\n",
              "    }\n",
              "\n",
              "    .dataframe tbody tr th {\n",
              "        vertical-align: top;\n",
              "    }\n",
              "\n",
              "    .dataframe thead th {\n",
              "        text-align: right;\n",
              "    }\n",
              "</style>\n",
              "<table border=\"1\" class=\"dataframe\">\n",
              "  <thead>\n",
              "    <tr style=\"text-align: right;\">\n",
              "      <th></th>\n",
              "      <th>day</th>\n",
              "      <th>('airTemperature', 'min')</th>\n",
              "      <th>('airTemperature', 'max')</th>\n",
              "      <th>('airTemperature', 'mean')</th>\n",
              "      <th>('windSpeed', 'min')</th>\n",
              "      <th>('windSpeed', 'max')</th>\n",
              "      <th>('windSpeed', 'mean')</th>\n",
              "      <th>site_id</th>\n",
              "    </tr>\n",
              "  </thead>\n",
              "  <tbody>\n",
              "    <tr>\n",
              "      <th>0</th>\n",
              "      <td>2016-02-01</td>\n",
              "      <td>9.1</td>\n",
              "      <td>14.2</td>\n",
              "      <td>11.782609</td>\n",
              "      <td>2.9</td>\n",
              "      <td>10.4</td>\n",
              "      <td>6.343478</td>\n",
              "      <td>3</td>\n",
              "    </tr>\n",
              "    <tr>\n",
              "      <th>1</th>\n",
              "      <td>2016-02-02</td>\n",
              "      <td>6.0</td>\n",
              "      <td>12.0</td>\n",
              "      <td>9.700000</td>\n",
              "      <td>2.7</td>\n",
              "      <td>13.0</td>\n",
              "      <td>8.266667</td>\n",
              "      <td>3</td>\n",
              "    </tr>\n",
              "    <tr>\n",
              "      <th>2</th>\n",
              "      <td>2016-02-03</td>\n",
              "      <td>8.1</td>\n",
              "      <td>13.9</td>\n",
              "      <td>12.004167</td>\n",
              "      <td>5.8</td>\n",
              "      <td>13.1</td>\n",
              "      <td>9.887500</td>\n",
              "      <td>3</td>\n",
              "    </tr>\n",
              "    <tr>\n",
              "      <th>3</th>\n",
              "      <td>2016-02-04</td>\n",
              "      <td>2.4</td>\n",
              "      <td>10.4</td>\n",
              "      <td>6.925000</td>\n",
              "      <td>3.1</td>\n",
              "      <td>10.7</td>\n",
              "      <td>6.433333</td>\n",
              "      <td>3</td>\n",
              "    </tr>\n",
              "    <tr>\n",
              "      <th>4</th>\n",
              "      <td>2016-02-05</td>\n",
              "      <td>9.8</td>\n",
              "      <td>12.7</td>\n",
              "      <td>11.591667</td>\n",
              "      <td>9.0</td>\n",
              "      <td>13.5</td>\n",
              "      <td>10.316667</td>\n",
              "      <td>3</td>\n",
              "    </tr>\n",
              "  </tbody>\n",
              "</table>\n",
              "</div>\n",
              "    <div class=\"colab-df-buttons\">\n",
              "\n",
              "  <div class=\"colab-df-container\">\n",
              "    <button class=\"colab-df-convert\" onclick=\"convertToInteractive('df-47d5234f-1d51-4ce8-a222-6c1da3303046')\"\n",
              "            title=\"Convert this dataframe to an interactive table.\"\n",
              "            style=\"display:none;\">\n",
              "\n",
              "  <svg xmlns=\"http://www.w3.org/2000/svg\" height=\"24px\" viewBox=\"0 -960 960 960\">\n",
              "    <path d=\"M120-120v-720h720v720H120Zm60-500h600v-160H180v160Zm220 220h160v-160H400v160Zm0 220h160v-160H400v160ZM180-400h160v-160H180v160Zm440 0h160v-160H620v160ZM180-180h160v-160H180v160Zm440 0h160v-160H620v160Z\"/>\n",
              "  </svg>\n",
              "    </button>\n",
              "\n",
              "  <style>\n",
              "    .colab-df-container {\n",
              "      display:flex;\n",
              "      gap: 12px;\n",
              "    }\n",
              "\n",
              "    .colab-df-convert {\n",
              "      background-color: #E8F0FE;\n",
              "      border: none;\n",
              "      border-radius: 50%;\n",
              "      cursor: pointer;\n",
              "      display: none;\n",
              "      fill: #1967D2;\n",
              "      height: 32px;\n",
              "      padding: 0 0 0 0;\n",
              "      width: 32px;\n",
              "    }\n",
              "\n",
              "    .colab-df-convert:hover {\n",
              "      background-color: #E2EBFA;\n",
              "      box-shadow: 0px 1px 2px rgba(60, 64, 67, 0.3), 0px 1px 3px 1px rgba(60, 64, 67, 0.15);\n",
              "      fill: #174EA6;\n",
              "    }\n",
              "\n",
              "    .colab-df-buttons div {\n",
              "      margin-bottom: 4px;\n",
              "    }\n",
              "\n",
              "    [theme=dark] .colab-df-convert {\n",
              "      background-color: #3B4455;\n",
              "      fill: #D2E3FC;\n",
              "    }\n",
              "\n",
              "    [theme=dark] .colab-df-convert:hover {\n",
              "      background-color: #434B5C;\n",
              "      box-shadow: 0px 1px 3px 1px rgba(0, 0, 0, 0.15);\n",
              "      filter: drop-shadow(0px 1px 2px rgba(0, 0, 0, 0.3));\n",
              "      fill: #FFFFFF;\n",
              "    }\n",
              "  </style>\n",
              "\n",
              "    <script>\n",
              "      const buttonEl =\n",
              "        document.querySelector('#df-47d5234f-1d51-4ce8-a222-6c1da3303046 button.colab-df-convert');\n",
              "      buttonEl.style.display =\n",
              "        google.colab.kernel.accessAllowed ? 'block' : 'none';\n",
              "\n",
              "      async function convertToInteractive(key) {\n",
              "        const element = document.querySelector('#df-47d5234f-1d51-4ce8-a222-6c1da3303046');\n",
              "        const dataTable =\n",
              "          await google.colab.kernel.invokeFunction('convertToInteractive',\n",
              "                                                    [key], {});\n",
              "        if (!dataTable) return;\n",
              "\n",
              "        const docLinkHtml = 'Like what you see? Visit the ' +\n",
              "          '<a target=\"_blank\" href=https://colab.research.google.com/notebooks/data_table.ipynb>data table notebook</a>'\n",
              "          + ' to learn more about interactive tables.';\n",
              "        element.innerHTML = '';\n",
              "        dataTable['output_type'] = 'display_data';\n",
              "        await google.colab.output.renderOutput(dataTable, element);\n",
              "        const docLink = document.createElement('div');\n",
              "        docLink.innerHTML = docLinkHtml;\n",
              "        element.appendChild(docLink);\n",
              "      }\n",
              "    </script>\n",
              "  </div>\n",
              "\n",
              "\n",
              "<div id=\"df-7c884352-f31a-4185-afe7-42362ef12201\">\n",
              "  <button class=\"colab-df-quickchart\" onclick=\"quickchart('df-7c884352-f31a-4185-afe7-42362ef12201')\"\n",
              "            title=\"Suggest charts\"\n",
              "            style=\"display:none;\">\n",
              "\n",
              "<svg xmlns=\"http://www.w3.org/2000/svg\" height=\"24px\"viewBox=\"0 0 24 24\"\n",
              "     width=\"24px\">\n",
              "    <g>\n",
              "        <path d=\"M19 3H5c-1.1 0-2 .9-2 2v14c0 1.1.9 2 2 2h14c1.1 0 2-.9 2-2V5c0-1.1-.9-2-2-2zM9 17H7v-7h2v7zm4 0h-2V7h2v10zm4 0h-2v-4h2v4z\"/>\n",
              "    </g>\n",
              "</svg>\n",
              "  </button>\n",
              "\n",
              "<style>\n",
              "  .colab-df-quickchart {\n",
              "      --bg-color: #E8F0FE;\n",
              "      --fill-color: #1967D2;\n",
              "      --hover-bg-color: #E2EBFA;\n",
              "      --hover-fill-color: #174EA6;\n",
              "      --disabled-fill-color: #AAA;\n",
              "      --disabled-bg-color: #DDD;\n",
              "  }\n",
              "\n",
              "  [theme=dark] .colab-df-quickchart {\n",
              "      --bg-color: #3B4455;\n",
              "      --fill-color: #D2E3FC;\n",
              "      --hover-bg-color: #434B5C;\n",
              "      --hover-fill-color: #FFFFFF;\n",
              "      --disabled-bg-color: #3B4455;\n",
              "      --disabled-fill-color: #666;\n",
              "  }\n",
              "\n",
              "  .colab-df-quickchart {\n",
              "    background-color: var(--bg-color);\n",
              "    border: none;\n",
              "    border-radius: 50%;\n",
              "    cursor: pointer;\n",
              "    display: none;\n",
              "    fill: var(--fill-color);\n",
              "    height: 32px;\n",
              "    padding: 0;\n",
              "    width: 32px;\n",
              "  }\n",
              "\n",
              "  .colab-df-quickchart:hover {\n",
              "    background-color: var(--hover-bg-color);\n",
              "    box-shadow: 0 1px 2px rgba(60, 64, 67, 0.3), 0 1px 3px 1px rgba(60, 64, 67, 0.15);\n",
              "    fill: var(--button-hover-fill-color);\n",
              "  }\n",
              "\n",
              "  .colab-df-quickchart-complete:disabled,\n",
              "  .colab-df-quickchart-complete:disabled:hover {\n",
              "    background-color: var(--disabled-bg-color);\n",
              "    fill: var(--disabled-fill-color);\n",
              "    box-shadow: none;\n",
              "  }\n",
              "\n",
              "  .colab-df-spinner {\n",
              "    border: 2px solid var(--fill-color);\n",
              "    border-color: transparent;\n",
              "    border-bottom-color: var(--fill-color);\n",
              "    animation:\n",
              "      spin 1s steps(1) infinite;\n",
              "  }\n",
              "\n",
              "  @keyframes spin {\n",
              "    0% {\n",
              "      border-color: transparent;\n",
              "      border-bottom-color: var(--fill-color);\n",
              "      border-left-color: var(--fill-color);\n",
              "    }\n",
              "    20% {\n",
              "      border-color: transparent;\n",
              "      border-left-color: var(--fill-color);\n",
              "      border-top-color: var(--fill-color);\n",
              "    }\n",
              "    30% {\n",
              "      border-color: transparent;\n",
              "      border-left-color: var(--fill-color);\n",
              "      border-top-color: var(--fill-color);\n",
              "      border-right-color: var(--fill-color);\n",
              "    }\n",
              "    40% {\n",
              "      border-color: transparent;\n",
              "      border-right-color: var(--fill-color);\n",
              "      border-top-color: var(--fill-color);\n",
              "    }\n",
              "    60% {\n",
              "      border-color: transparent;\n",
              "      border-right-color: var(--fill-color);\n",
              "    }\n",
              "    80% {\n",
              "      border-color: transparent;\n",
              "      border-right-color: var(--fill-color);\n",
              "      border-bottom-color: var(--fill-color);\n",
              "    }\n",
              "    90% {\n",
              "      border-color: transparent;\n",
              "      border-bottom-color: var(--fill-color);\n",
              "    }\n",
              "  }\n",
              "</style>\n",
              "\n",
              "  <script>\n",
              "    async function quickchart(key) {\n",
              "      const quickchartButtonEl =\n",
              "        document.querySelector('#' + key + ' button');\n",
              "      quickchartButtonEl.disabled = true;  // To prevent multiple clicks.\n",
              "      quickchartButtonEl.classList.add('colab-df-spinner');\n",
              "      try {\n",
              "        const charts = await google.colab.kernel.invokeFunction(\n",
              "            'suggestCharts', [key], {});\n",
              "      } catch (error) {\n",
              "        console.error('Error during call to suggestCharts:', error);\n",
              "      }\n",
              "      quickchartButtonEl.classList.remove('colab-df-spinner');\n",
              "      quickchartButtonEl.classList.add('colab-df-quickchart-complete');\n",
              "    }\n",
              "    (() => {\n",
              "      let quickchartButtonEl =\n",
              "        document.querySelector('#df-7c884352-f31a-4185-afe7-42362ef12201 button');\n",
              "      quickchartButtonEl.style.display =\n",
              "        google.colab.kernel.accessAllowed ? 'block' : 'none';\n",
              "    })();\n",
              "  </script>\n",
              "</div>\n",
              "    </div>\n",
              "  </div>\n"
            ],
            "application/vnd.google.colaboratory.intrinsic+json": {
              "type": "dataframe",
              "variable_name": "w_df",
              "summary": "{\n  \"name\": \"w_df\",\n  \"rows\": 3495,\n  \"fields\": [\n    {\n      \"column\": \"day\",\n      \"properties\": {\n        \"dtype\": \"date\",\n        \"min\": \"2016-02-01 00:00:00\",\n        \"max\": \"2017-12-30 00:00:00\",\n        \"num_unique_values\": 699,\n        \"samples\": [\n          \"2016-07-08 00:00:00\",\n          \"2017-06-14 00:00:00\",\n          \"2017-03-03 00:00:00\"\n        ],\n        \"semantic_type\": \"\",\n        \"description\": \"\"\n      }\n    },\n    {\n      \"column\": \"('airTemperature', 'min')\",\n      \"properties\": {\n        \"dtype\": \"number\",\n        \"std\": 5.000770930442587,\n        \"min\": -4.7,\n        \"max\": 20.4,\n        \"num_unique_values\": 299,\n        \"samples\": [\n          -1.5000000000000002,\n          5.6000000000000005,\n          -3.4\n        ],\n        \"semantic_type\": \"\",\n        \"description\": \"\"\n      }\n    },\n    {\n      \"column\": \"('airTemperature', 'max')\",\n      \"properties\": {\n        \"dtype\": \"number\",\n        \"std\": 5.772329557000805,\n        \"min\": 0.8999999999999999,\n        \"max\": 34.8,\n        \"num_unique_values\": 351,\n        \"samples\": [\n          28.2,\n          4.800000000000001,\n          7.399999999999999\n        ],\n        \"semantic_type\": \"\",\n        \"description\": \"\"\n      }\n    },\n    {\n      \"column\": \"('airTemperature', 'mean')\",\n      \"properties\": {\n        \"dtype\": \"number\",\n        \"std\": 5.177262548546447,\n        \"min\": -0.1708333333333333,\n        \"max\": 26.616666666666664,\n        \"num_unique_values\": 2504,\n        \"samples\": [\n          14.316666666666668,\n          10.933333333333332,\n          17.541666666666668\n        ],\n        \"semantic_type\": \"\",\n        \"description\": \"\"\n      }\n    },\n    {\n      \"column\": \"('windSpeed', 'min')\",\n      \"properties\": {\n        \"dtype\": \"number\",\n        \"std\": 1.5084983915700856,\n        \"min\": 0.0,\n        \"max\": 10.5,\n        \"num_unique_values\": 104,\n        \"samples\": [\n          4.4,\n          4.1,\n          5.6\n        ],\n        \"semantic_type\": \"\",\n        \"description\": \"\"\n      }\n    },\n    {\n      \"column\": \"('windSpeed', 'max')\",\n      \"properties\": {\n        \"dtype\": \"number\",\n        \"std\": 2.5971575097450477,\n        \"min\": 2.0,\n        \"max\": 23.4,\n        \"num_unique_values\": 169,\n        \"samples\": [\n          12.8,\n          8.1,\n          13.8\n        ],\n        \"semantic_type\": \"\",\n        \"description\": \"\"\n      }\n    },\n    {\n      \"column\": \"('windSpeed', 'mean')\",\n      \"properties\": {\n        \"dtype\": \"number\",\n        \"std\": 1.8986697180063612,\n        \"min\": 1.2363636363636363,\n        \"max\": 14.966666666666667,\n        \"num_unique_values\": 1600,\n        \"samples\": [\n          5.141666666666667,\n          6.291666666666667,\n          5.870833333333334\n        ],\n        \"semantic_type\": \"\",\n        \"description\": \"\"\n      }\n    },\n    {\n      \"column\": \"site_id\",\n      \"properties\": {\n        \"dtype\": \"number\",\n        \"std\": 1,\n        \"min\": 0,\n        \"max\": 4,\n        \"num_unique_values\": 5,\n        \"samples\": [\n          0,\n          1,\n          4\n        ],\n        \"semantic_type\": \"\",\n        \"description\": \"\"\n      }\n    }\n  ]\n}"
            }
          },
          "metadata": {},
          "execution_count": 245
        }
      ]
    },
    {
      "cell_type": "code",
      "source": [
        "names = [\"airtemp_min\",\n",
        "         \"airtemp_max\",\n",
        "         \"airtemp_mean\",\n",
        "         \"windspeed_min\",\n",
        "         \"windspeed_max\",\n",
        "         \"windspeed_mean\"]\n",
        "\n",
        "_n = {c : n for c, n in zip(w_df.columns[-7:], names)}\n",
        "w_df = w_df.rename(columns=_n)"
      ],
      "metadata": {
        "id": "_rdhPo3pn2z6"
      },
      "execution_count": 246,
      "outputs": []
    },
    {
      "cell_type": "code",
      "source": [
        "w_df.head()"
      ],
      "metadata": {
        "id": "6lyKPq60ov3i",
        "outputId": "2486dd14-3c48-4457-ed99-1e122296ee0d",
        "colab": {
          "base_uri": "https://localhost:8080/",
          "height": 206
        }
      },
      "execution_count": 247,
      "outputs": [
        {
          "output_type": "execute_result",
          "data": {
            "text/plain": [
              "         day  airtemp_min  airtemp_max  airtemp_mean  windspeed_min  \\\n",
              "0 2016-02-01          9.1         14.2     11.782609            2.9   \n",
              "1 2016-02-02          6.0         12.0      9.700000            2.7   \n",
              "2 2016-02-03          8.1         13.9     12.004167            5.8   \n",
              "3 2016-02-04          2.4         10.4      6.925000            3.1   \n",
              "4 2016-02-05          9.8         12.7     11.591667            9.0   \n",
              "\n",
              "   windspeed_max  windspeed_mean  site_id  \n",
              "0           10.4        6.343478        3  \n",
              "1           13.0        8.266667        3  \n",
              "2           13.1        9.887500        3  \n",
              "3           10.7        6.433333        3  \n",
              "4           13.5       10.316667        3  "
            ],
            "text/html": [
              "\n",
              "  <div id=\"df-47b999d4-2878-46a2-a5f0-2f6877180d32\" class=\"colab-df-container\">\n",
              "    <div>\n",
              "<style scoped>\n",
              "    .dataframe tbody tr th:only-of-type {\n",
              "        vertical-align: middle;\n",
              "    }\n",
              "\n",
              "    .dataframe tbody tr th {\n",
              "        vertical-align: top;\n",
              "    }\n",
              "\n",
              "    .dataframe thead th {\n",
              "        text-align: right;\n",
              "    }\n",
              "</style>\n",
              "<table border=\"1\" class=\"dataframe\">\n",
              "  <thead>\n",
              "    <tr style=\"text-align: right;\">\n",
              "      <th></th>\n",
              "      <th>day</th>\n",
              "      <th>airtemp_min</th>\n",
              "      <th>airtemp_max</th>\n",
              "      <th>airtemp_mean</th>\n",
              "      <th>windspeed_min</th>\n",
              "      <th>windspeed_max</th>\n",
              "      <th>windspeed_mean</th>\n",
              "      <th>site_id</th>\n",
              "    </tr>\n",
              "  </thead>\n",
              "  <tbody>\n",
              "    <tr>\n",
              "      <th>0</th>\n",
              "      <td>2016-02-01</td>\n",
              "      <td>9.1</td>\n",
              "      <td>14.2</td>\n",
              "      <td>11.782609</td>\n",
              "      <td>2.9</td>\n",
              "      <td>10.4</td>\n",
              "      <td>6.343478</td>\n",
              "      <td>3</td>\n",
              "    </tr>\n",
              "    <tr>\n",
              "      <th>1</th>\n",
              "      <td>2016-02-02</td>\n",
              "      <td>6.0</td>\n",
              "      <td>12.0</td>\n",
              "      <td>9.700000</td>\n",
              "      <td>2.7</td>\n",
              "      <td>13.0</td>\n",
              "      <td>8.266667</td>\n",
              "      <td>3</td>\n",
              "    </tr>\n",
              "    <tr>\n",
              "      <th>2</th>\n",
              "      <td>2016-02-03</td>\n",
              "      <td>8.1</td>\n",
              "      <td>13.9</td>\n",
              "      <td>12.004167</td>\n",
              "      <td>5.8</td>\n",
              "      <td>13.1</td>\n",
              "      <td>9.887500</td>\n",
              "      <td>3</td>\n",
              "    </tr>\n",
              "    <tr>\n",
              "      <th>3</th>\n",
              "      <td>2016-02-04</td>\n",
              "      <td>2.4</td>\n",
              "      <td>10.4</td>\n",
              "      <td>6.925000</td>\n",
              "      <td>3.1</td>\n",
              "      <td>10.7</td>\n",
              "      <td>6.433333</td>\n",
              "      <td>3</td>\n",
              "    </tr>\n",
              "    <tr>\n",
              "      <th>4</th>\n",
              "      <td>2016-02-05</td>\n",
              "      <td>9.8</td>\n",
              "      <td>12.7</td>\n",
              "      <td>11.591667</td>\n",
              "      <td>9.0</td>\n",
              "      <td>13.5</td>\n",
              "      <td>10.316667</td>\n",
              "      <td>3</td>\n",
              "    </tr>\n",
              "  </tbody>\n",
              "</table>\n",
              "</div>\n",
              "    <div class=\"colab-df-buttons\">\n",
              "\n",
              "  <div class=\"colab-df-container\">\n",
              "    <button class=\"colab-df-convert\" onclick=\"convertToInteractive('df-47b999d4-2878-46a2-a5f0-2f6877180d32')\"\n",
              "            title=\"Convert this dataframe to an interactive table.\"\n",
              "            style=\"display:none;\">\n",
              "\n",
              "  <svg xmlns=\"http://www.w3.org/2000/svg\" height=\"24px\" viewBox=\"0 -960 960 960\">\n",
              "    <path d=\"M120-120v-720h720v720H120Zm60-500h600v-160H180v160Zm220 220h160v-160H400v160Zm0 220h160v-160H400v160ZM180-400h160v-160H180v160Zm440 0h160v-160H620v160ZM180-180h160v-160H180v160Zm440 0h160v-160H620v160Z\"/>\n",
              "  </svg>\n",
              "    </button>\n",
              "\n",
              "  <style>\n",
              "    .colab-df-container {\n",
              "      display:flex;\n",
              "      gap: 12px;\n",
              "    }\n",
              "\n",
              "    .colab-df-convert {\n",
              "      background-color: #E8F0FE;\n",
              "      border: none;\n",
              "      border-radius: 50%;\n",
              "      cursor: pointer;\n",
              "      display: none;\n",
              "      fill: #1967D2;\n",
              "      height: 32px;\n",
              "      padding: 0 0 0 0;\n",
              "      width: 32px;\n",
              "    }\n",
              "\n",
              "    .colab-df-convert:hover {\n",
              "      background-color: #E2EBFA;\n",
              "      box-shadow: 0px 1px 2px rgba(60, 64, 67, 0.3), 0px 1px 3px 1px rgba(60, 64, 67, 0.15);\n",
              "      fill: #174EA6;\n",
              "    }\n",
              "\n",
              "    .colab-df-buttons div {\n",
              "      margin-bottom: 4px;\n",
              "    }\n",
              "\n",
              "    [theme=dark] .colab-df-convert {\n",
              "      background-color: #3B4455;\n",
              "      fill: #D2E3FC;\n",
              "    }\n",
              "\n",
              "    [theme=dark] .colab-df-convert:hover {\n",
              "      background-color: #434B5C;\n",
              "      box-shadow: 0px 1px 3px 1px rgba(0, 0, 0, 0.15);\n",
              "      filter: drop-shadow(0px 1px 2px rgba(0, 0, 0, 0.3));\n",
              "      fill: #FFFFFF;\n",
              "    }\n",
              "  </style>\n",
              "\n",
              "    <script>\n",
              "      const buttonEl =\n",
              "        document.querySelector('#df-47b999d4-2878-46a2-a5f0-2f6877180d32 button.colab-df-convert');\n",
              "      buttonEl.style.display =\n",
              "        google.colab.kernel.accessAllowed ? 'block' : 'none';\n",
              "\n",
              "      async function convertToInteractive(key) {\n",
              "        const element = document.querySelector('#df-47b999d4-2878-46a2-a5f0-2f6877180d32');\n",
              "        const dataTable =\n",
              "          await google.colab.kernel.invokeFunction('convertToInteractive',\n",
              "                                                    [key], {});\n",
              "        if (!dataTable) return;\n",
              "\n",
              "        const docLinkHtml = 'Like what you see? Visit the ' +\n",
              "          '<a target=\"_blank\" href=https://colab.research.google.com/notebooks/data_table.ipynb>data table notebook</a>'\n",
              "          + ' to learn more about interactive tables.';\n",
              "        element.innerHTML = '';\n",
              "        dataTable['output_type'] = 'display_data';\n",
              "        await google.colab.output.renderOutput(dataTable, element);\n",
              "        const docLink = document.createElement('div');\n",
              "        docLink.innerHTML = docLinkHtml;\n",
              "        element.appendChild(docLink);\n",
              "      }\n",
              "    </script>\n",
              "  </div>\n",
              "\n",
              "\n",
              "<div id=\"df-ac6ceaad-1cdc-4be9-a557-ae9689d22f1b\">\n",
              "  <button class=\"colab-df-quickchart\" onclick=\"quickchart('df-ac6ceaad-1cdc-4be9-a557-ae9689d22f1b')\"\n",
              "            title=\"Suggest charts\"\n",
              "            style=\"display:none;\">\n",
              "\n",
              "<svg xmlns=\"http://www.w3.org/2000/svg\" height=\"24px\"viewBox=\"0 0 24 24\"\n",
              "     width=\"24px\">\n",
              "    <g>\n",
              "        <path d=\"M19 3H5c-1.1 0-2 .9-2 2v14c0 1.1.9 2 2 2h14c1.1 0 2-.9 2-2V5c0-1.1-.9-2-2-2zM9 17H7v-7h2v7zm4 0h-2V7h2v10zm4 0h-2v-4h2v4z\"/>\n",
              "    </g>\n",
              "</svg>\n",
              "  </button>\n",
              "\n",
              "<style>\n",
              "  .colab-df-quickchart {\n",
              "      --bg-color: #E8F0FE;\n",
              "      --fill-color: #1967D2;\n",
              "      --hover-bg-color: #E2EBFA;\n",
              "      --hover-fill-color: #174EA6;\n",
              "      --disabled-fill-color: #AAA;\n",
              "      --disabled-bg-color: #DDD;\n",
              "  }\n",
              "\n",
              "  [theme=dark] .colab-df-quickchart {\n",
              "      --bg-color: #3B4455;\n",
              "      --fill-color: #D2E3FC;\n",
              "      --hover-bg-color: #434B5C;\n",
              "      --hover-fill-color: #FFFFFF;\n",
              "      --disabled-bg-color: #3B4455;\n",
              "      --disabled-fill-color: #666;\n",
              "  }\n",
              "\n",
              "  .colab-df-quickchart {\n",
              "    background-color: var(--bg-color);\n",
              "    border: none;\n",
              "    border-radius: 50%;\n",
              "    cursor: pointer;\n",
              "    display: none;\n",
              "    fill: var(--fill-color);\n",
              "    height: 32px;\n",
              "    padding: 0;\n",
              "    width: 32px;\n",
              "  }\n",
              "\n",
              "  .colab-df-quickchart:hover {\n",
              "    background-color: var(--hover-bg-color);\n",
              "    box-shadow: 0 1px 2px rgba(60, 64, 67, 0.3), 0 1px 3px 1px rgba(60, 64, 67, 0.15);\n",
              "    fill: var(--button-hover-fill-color);\n",
              "  }\n",
              "\n",
              "  .colab-df-quickchart-complete:disabled,\n",
              "  .colab-df-quickchart-complete:disabled:hover {\n",
              "    background-color: var(--disabled-bg-color);\n",
              "    fill: var(--disabled-fill-color);\n",
              "    box-shadow: none;\n",
              "  }\n",
              "\n",
              "  .colab-df-spinner {\n",
              "    border: 2px solid var(--fill-color);\n",
              "    border-color: transparent;\n",
              "    border-bottom-color: var(--fill-color);\n",
              "    animation:\n",
              "      spin 1s steps(1) infinite;\n",
              "  }\n",
              "\n",
              "  @keyframes spin {\n",
              "    0% {\n",
              "      border-color: transparent;\n",
              "      border-bottom-color: var(--fill-color);\n",
              "      border-left-color: var(--fill-color);\n",
              "    }\n",
              "    20% {\n",
              "      border-color: transparent;\n",
              "      border-left-color: var(--fill-color);\n",
              "      border-top-color: var(--fill-color);\n",
              "    }\n",
              "    30% {\n",
              "      border-color: transparent;\n",
              "      border-left-color: var(--fill-color);\n",
              "      border-top-color: var(--fill-color);\n",
              "      border-right-color: var(--fill-color);\n",
              "    }\n",
              "    40% {\n",
              "      border-color: transparent;\n",
              "      border-right-color: var(--fill-color);\n",
              "      border-top-color: var(--fill-color);\n",
              "    }\n",
              "    60% {\n",
              "      border-color: transparent;\n",
              "      border-right-color: var(--fill-color);\n",
              "    }\n",
              "    80% {\n",
              "      border-color: transparent;\n",
              "      border-right-color: var(--fill-color);\n",
              "      border-bottom-color: var(--fill-color);\n",
              "    }\n",
              "    90% {\n",
              "      border-color: transparent;\n",
              "      border-bottom-color: var(--fill-color);\n",
              "    }\n",
              "  }\n",
              "</style>\n",
              "\n",
              "  <script>\n",
              "    async function quickchart(key) {\n",
              "      const quickchartButtonEl =\n",
              "        document.querySelector('#' + key + ' button');\n",
              "      quickchartButtonEl.disabled = true;  // To prevent multiple clicks.\n",
              "      quickchartButtonEl.classList.add('colab-df-spinner');\n",
              "      try {\n",
              "        const charts = await google.colab.kernel.invokeFunction(\n",
              "            'suggestCharts', [key], {});\n",
              "      } catch (error) {\n",
              "        console.error('Error during call to suggestCharts:', error);\n",
              "      }\n",
              "      quickchartButtonEl.classList.remove('colab-df-spinner');\n",
              "      quickchartButtonEl.classList.add('colab-df-quickchart-complete');\n",
              "    }\n",
              "    (() => {\n",
              "      let quickchartButtonEl =\n",
              "        document.querySelector('#df-ac6ceaad-1cdc-4be9-a557-ae9689d22f1b button');\n",
              "      quickchartButtonEl.style.display =\n",
              "        google.colab.kernel.accessAllowed ? 'block' : 'none';\n",
              "    })();\n",
              "  </script>\n",
              "</div>\n",
              "    </div>\n",
              "  </div>\n"
            ],
            "application/vnd.google.colaboratory.intrinsic+json": {
              "type": "dataframe",
              "variable_name": "w_df",
              "summary": "{\n  \"name\": \"w_df\",\n  \"rows\": 3495,\n  \"fields\": [\n    {\n      \"column\": \"day\",\n      \"properties\": {\n        \"dtype\": \"date\",\n        \"min\": \"2016-02-01 00:00:00\",\n        \"max\": \"2017-12-30 00:00:00\",\n        \"num_unique_values\": 699,\n        \"samples\": [\n          \"2016-07-08 00:00:00\",\n          \"2017-06-14 00:00:00\",\n          \"2017-03-03 00:00:00\"\n        ],\n        \"semantic_type\": \"\",\n        \"description\": \"\"\n      }\n    },\n    {\n      \"column\": \"airtemp_min\",\n      \"properties\": {\n        \"dtype\": \"number\",\n        \"std\": 5.000770930442587,\n        \"min\": -4.7,\n        \"max\": 20.4,\n        \"num_unique_values\": 299,\n        \"samples\": [\n          -1.5000000000000002,\n          5.6000000000000005,\n          -3.4\n        ],\n        \"semantic_type\": \"\",\n        \"description\": \"\"\n      }\n    },\n    {\n      \"column\": \"airtemp_max\",\n      \"properties\": {\n        \"dtype\": \"number\",\n        \"std\": 5.772329557000805,\n        \"min\": 0.8999999999999999,\n        \"max\": 34.8,\n        \"num_unique_values\": 351,\n        \"samples\": [\n          28.2,\n          4.800000000000001,\n          7.399999999999999\n        ],\n        \"semantic_type\": \"\",\n        \"description\": \"\"\n      }\n    },\n    {\n      \"column\": \"airtemp_mean\",\n      \"properties\": {\n        \"dtype\": \"number\",\n        \"std\": 5.177262548546447,\n        \"min\": -0.1708333333333333,\n        \"max\": 26.616666666666664,\n        \"num_unique_values\": 2504,\n        \"samples\": [\n          14.316666666666668,\n          10.933333333333332,\n          17.541666666666668\n        ],\n        \"semantic_type\": \"\",\n        \"description\": \"\"\n      }\n    },\n    {\n      \"column\": \"windspeed_min\",\n      \"properties\": {\n        \"dtype\": \"number\",\n        \"std\": 1.5084983915700856,\n        \"min\": 0.0,\n        \"max\": 10.5,\n        \"num_unique_values\": 104,\n        \"samples\": [\n          4.4,\n          4.1,\n          5.6\n        ],\n        \"semantic_type\": \"\",\n        \"description\": \"\"\n      }\n    },\n    {\n      \"column\": \"windspeed_max\",\n      \"properties\": {\n        \"dtype\": \"number\",\n        \"std\": 2.5971575097450477,\n        \"min\": 2.0,\n        \"max\": 23.4,\n        \"num_unique_values\": 169,\n        \"samples\": [\n          12.8,\n          8.1,\n          13.8\n        ],\n        \"semantic_type\": \"\",\n        \"description\": \"\"\n      }\n    },\n    {\n      \"column\": \"windspeed_mean\",\n      \"properties\": {\n        \"dtype\": \"number\",\n        \"std\": 1.8986697180063612,\n        \"min\": 1.2363636363636363,\n        \"max\": 14.966666666666667,\n        \"num_unique_values\": 1600,\n        \"samples\": [\n          5.141666666666667,\n          6.291666666666667,\n          5.870833333333334\n        ],\n        \"semantic_type\": \"\",\n        \"description\": \"\"\n      }\n    },\n    {\n      \"column\": \"site_id\",\n      \"properties\": {\n        \"dtype\": \"number\",\n        \"std\": 1,\n        \"min\": 0,\n        \"max\": 4,\n        \"num_unique_values\": 5,\n        \"samples\": [\n          0,\n          1,\n          4\n        ],\n        \"semantic_type\": \"\",\n        \"description\": \"\"\n      }\n    }\n  ]\n}"
            }
          },
          "metadata": {},
          "execution_count": 247
        }
      ]
    },
    {
      "cell_type": "markdown",
      "source": [
        "**DATA MERGING**"
      ],
      "metadata": {
        "id": "9cTckkHjRry6"
      }
    },
    {
      "cell_type": "code",
      "source": [
        "full_df = train.merge(metadata, how=\"left\", on=[\"building_id\"])\n",
        "full_df = full_df.merge(w_df, how=\"left\", on=[\"day\", \"site_id\"])"
      ],
      "metadata": {
        "id": "IlyUsvXjUEQz"
      },
      "execution_count": 248,
      "outputs": []
    },
    {
      "cell_type": "code",
      "source": [
        "target = \"meter_reading\"\n",
        "meter_dict = {595:0, 207:1, 649:2, 413:3}\n",
        "full_df[\"meter\"].replace(meter_dict, inplace=True)\n",
        "X = full_df.drop(columns=[target]).loc[full_df[target].isna()==False]\n",
        "Y = full_df[target].loc[full_df[target].isna()==False]"
      ],
      "metadata": {
        "id": "ksEkYXstaHZz"
      },
      "execution_count": 249,
      "outputs": []
    },
    {
      "cell_type": "code",
      "source": [
        "test = test.merge(metadata, on='building_id', how='left')\n",
        "test = test.merge(w_df, how=\"left\", on=[\"day\", \"site_id\"])"
      ],
      "metadata": {
        "id": "ydn9sWrCg6At"
      },
      "execution_count": 250,
      "outputs": []
    },
    {
      "cell_type": "markdown",
      "source": [
        "**PREDICTIONS**"
      ],
      "metadata": {
        "id": "NGSZOzb4Yriq"
      }
    },
    {
      "cell_type": "code",
      "source": [
        "X_train, X_valid, Y_train, Y_valid = split_time_data(full_df)\n",
        "\n",
        "model = RandomForestRegressor(n_estimators=15, random_state=100).fit(X_train, Y_train)\n",
        "score = model.score(X_valid, Y_valid)\n",
        "print(score)"
      ],
      "metadata": {
        "id": "5iGY-VqxYty7",
        "outputId": "8153209f-2449-4a76-90bc-7e005d88b32f",
        "colab": {
          "base_uri": "https://localhost:8080/"
        }
      },
      "execution_count": 145,
      "outputs": [
        {
          "output_type": "stream",
          "name": "stdout",
          "text": [
            "0.6067091366524604\n"
          ]
        }
      ]
    },
    {
      "cell_type": "code",
      "source": [
        "df7 = make_shifts(full_df, 8)\n",
        "X_train, X_valid, Y_train, Y_valid = split_time_data(df7)\n",
        "\n",
        "model = RandomForestRegressor(n_estimators=15, random_state=100).fit(X_train, Y_train)\n",
        "score = model.score(X_valid, Y_valid)\n",
        "\n",
        "print(score)"
      ],
      "metadata": {
        "id": "TXIfmd6geFQE",
        "outputId": "68176f43-d520-4aa9-a259-182d31613f89",
        "colab": {
          "base_uri": "https://localhost:8080/"
        }
      },
      "execution_count": 147,
      "outputs": [
        {
          "output_type": "stream",
          "name": "stdout",
          "text": [
            "0.6098343898396245\n"
          ]
        }
      ]
    },
    {
      "cell_type": "markdown",
      "source": [
        "**PREDICTIONS**"
      ],
      "metadata": {
        "id": "joEGywgme8eN"
      }
    },
    {
      "cell_type": "code",
      "source": [
        "predictions = []\n",
        "\n",
        "for row in range(test.shape[0]):\n",
        "    lags = pd.DataFrame(return_lags(test.iloc[row][\"day\"], test.iloc[row][\"building_id\"], test.iloc[row][\"meter\"], shifts=8), index=[0]).fillna(0)\n",
        "    row_to_predict = pd.concat([test.drop(columns=[\"day\"]).iloc[row: row + 1].reset_index(drop=True), lags.reset_index(drop=True)], ignore_index=False, axis=\"columns\")\n",
        "    predictions.append(model.predict(row_to_predict)[0])\n",
        "    total_df.loc[row, \"meter_reading\"] = predictions[-1]\n",
        "    if row % 100 == 0:\n",
        "        print(\"{}/{} complete\".format(row, test.shape[0]))"
      ],
      "metadata": {
        "id": "4BRpsvwYe_aU",
        "outputId": "45d95062-0637-42b1-d0e7-9376a0780537",
        "colab": {
          "base_uri": "https://localhost:8080/",
          "height": 495
        }
      },
      "execution_count": 148,
      "outputs": [
        {
          "output_type": "error",
          "ename": "ValueError",
          "evalue": "The feature names should match those that were passed during fit.\nFeature names seen at fit time, yet now missing:\n- airtemp_max\n- airtemp_mean\n- airtemp_min\n- day_number\n- electricity\n- ...\n",
          "traceback": [
            "\u001b[0;31m---------------------------------------------------------------------------\u001b[0m",
            "\u001b[0;31mValueError\u001b[0m                                Traceback (most recent call last)",
            "\u001b[0;32m<ipython-input-148-f96c24536a8a>\u001b[0m in \u001b[0;36m<cell line: 3>\u001b[0;34m()\u001b[0m\n\u001b[1;32m      4\u001b[0m     \u001b[0mlags\u001b[0m \u001b[0;34m=\u001b[0m \u001b[0mpd\u001b[0m\u001b[0;34m.\u001b[0m\u001b[0mDataFrame\u001b[0m\u001b[0;34m(\u001b[0m\u001b[0mreturn_lags\u001b[0m\u001b[0;34m(\u001b[0m\u001b[0mtest\u001b[0m\u001b[0;34m.\u001b[0m\u001b[0miloc\u001b[0m\u001b[0;34m[\u001b[0m\u001b[0mrow\u001b[0m\u001b[0;34m]\u001b[0m\u001b[0;34m[\u001b[0m\u001b[0;34m\"day\"\u001b[0m\u001b[0;34m]\u001b[0m\u001b[0;34m,\u001b[0m \u001b[0mtest\u001b[0m\u001b[0;34m.\u001b[0m\u001b[0miloc\u001b[0m\u001b[0;34m[\u001b[0m\u001b[0mrow\u001b[0m\u001b[0;34m]\u001b[0m\u001b[0;34m[\u001b[0m\u001b[0;34m\"building_id\"\u001b[0m\u001b[0;34m]\u001b[0m\u001b[0;34m,\u001b[0m \u001b[0mtest\u001b[0m\u001b[0;34m.\u001b[0m\u001b[0miloc\u001b[0m\u001b[0;34m[\u001b[0m\u001b[0mrow\u001b[0m\u001b[0;34m]\u001b[0m\u001b[0;34m[\u001b[0m\u001b[0;34m\"meter\"\u001b[0m\u001b[0;34m]\u001b[0m\u001b[0;34m,\u001b[0m \u001b[0mshifts\u001b[0m\u001b[0;34m=\u001b[0m\u001b[0;36m8\u001b[0m\u001b[0;34m)\u001b[0m\u001b[0;34m,\u001b[0m \u001b[0mindex\u001b[0m\u001b[0;34m=\u001b[0m\u001b[0;34m[\u001b[0m\u001b[0;36m0\u001b[0m\u001b[0;34m]\u001b[0m\u001b[0;34m)\u001b[0m\u001b[0;34m.\u001b[0m\u001b[0mfillna\u001b[0m\u001b[0;34m(\u001b[0m\u001b[0;36m0\u001b[0m\u001b[0;34m)\u001b[0m\u001b[0;34m\u001b[0m\u001b[0;34m\u001b[0m\u001b[0m\n\u001b[1;32m      5\u001b[0m     \u001b[0mrow_to_predict\u001b[0m \u001b[0;34m=\u001b[0m \u001b[0mpd\u001b[0m\u001b[0;34m.\u001b[0m\u001b[0mconcat\u001b[0m\u001b[0;34m(\u001b[0m\u001b[0;34m[\u001b[0m\u001b[0mtest\u001b[0m\u001b[0;34m.\u001b[0m\u001b[0mdrop\u001b[0m\u001b[0;34m(\u001b[0m\u001b[0mcolumns\u001b[0m\u001b[0;34m=\u001b[0m\u001b[0;34m[\u001b[0m\u001b[0;34m\"day\"\u001b[0m\u001b[0;34m]\u001b[0m\u001b[0;34m)\u001b[0m\u001b[0;34m.\u001b[0m\u001b[0miloc\u001b[0m\u001b[0;34m[\u001b[0m\u001b[0mrow\u001b[0m\u001b[0;34m:\u001b[0m \u001b[0mrow\u001b[0m \u001b[0;34m+\u001b[0m \u001b[0;36m1\u001b[0m\u001b[0;34m]\u001b[0m\u001b[0;34m.\u001b[0m\u001b[0mreset_index\u001b[0m\u001b[0;34m(\u001b[0m\u001b[0mdrop\u001b[0m\u001b[0;34m=\u001b[0m\u001b[0;32mTrue\u001b[0m\u001b[0;34m)\u001b[0m\u001b[0;34m,\u001b[0m \u001b[0mlags\u001b[0m\u001b[0;34m.\u001b[0m\u001b[0mreset_index\u001b[0m\u001b[0;34m(\u001b[0m\u001b[0mdrop\u001b[0m\u001b[0;34m=\u001b[0m\u001b[0;32mTrue\u001b[0m\u001b[0;34m)\u001b[0m\u001b[0;34m]\u001b[0m\u001b[0;34m,\u001b[0m \u001b[0mignore_index\u001b[0m\u001b[0;34m=\u001b[0m\u001b[0;32mFalse\u001b[0m\u001b[0;34m,\u001b[0m \u001b[0maxis\u001b[0m\u001b[0;34m=\u001b[0m\u001b[0;34m\"columns\"\u001b[0m\u001b[0;34m)\u001b[0m\u001b[0;34m\u001b[0m\u001b[0;34m\u001b[0m\u001b[0m\n\u001b[0;32m----> 6\u001b[0;31m     \u001b[0mpredictions\u001b[0m\u001b[0;34m.\u001b[0m\u001b[0mappend\u001b[0m\u001b[0;34m(\u001b[0m\u001b[0mmodel\u001b[0m\u001b[0;34m.\u001b[0m\u001b[0mpredict\u001b[0m\u001b[0;34m(\u001b[0m\u001b[0mrow_to_predict\u001b[0m\u001b[0;34m)\u001b[0m\u001b[0;34m[\u001b[0m\u001b[0;36m0\u001b[0m\u001b[0;34m]\u001b[0m\u001b[0;34m)\u001b[0m\u001b[0;34m\u001b[0m\u001b[0;34m\u001b[0m\u001b[0m\n\u001b[0m\u001b[1;32m      7\u001b[0m     \u001b[0mtotal_df\u001b[0m\u001b[0;34m.\u001b[0m\u001b[0mloc\u001b[0m\u001b[0;34m[\u001b[0m\u001b[0mrow\u001b[0m\u001b[0;34m,\u001b[0m \u001b[0;34m\"meter_reading\"\u001b[0m\u001b[0;34m]\u001b[0m \u001b[0;34m=\u001b[0m \u001b[0mpredictions\u001b[0m\u001b[0;34m[\u001b[0m\u001b[0;34m-\u001b[0m\u001b[0;36m1\u001b[0m\u001b[0;34m]\u001b[0m\u001b[0;34m\u001b[0m\u001b[0;34m\u001b[0m\u001b[0m\n\u001b[1;32m      8\u001b[0m     \u001b[0;32mif\u001b[0m \u001b[0mrow\u001b[0m \u001b[0;34m%\u001b[0m \u001b[0;36m100\u001b[0m \u001b[0;34m==\u001b[0m \u001b[0;36m0\u001b[0m\u001b[0;34m:\u001b[0m\u001b[0;34m\u001b[0m\u001b[0;34m\u001b[0m\u001b[0m\n",
            "\u001b[0;32m/usr/local/lib/python3.10/dist-packages/sklearn/ensemble/_forest.py\u001b[0m in \u001b[0;36mpredict\u001b[0;34m(self, X)\u001b[0m\n\u001b[1;32m    979\u001b[0m         \u001b[0mcheck_is_fitted\u001b[0m\u001b[0;34m(\u001b[0m\u001b[0mself\u001b[0m\u001b[0;34m)\u001b[0m\u001b[0;34m\u001b[0m\u001b[0;34m\u001b[0m\u001b[0m\n\u001b[1;32m    980\u001b[0m         \u001b[0;31m# Check data\u001b[0m\u001b[0;34m\u001b[0m\u001b[0;34m\u001b[0m\u001b[0m\n\u001b[0;32m--> 981\u001b[0;31m         \u001b[0mX\u001b[0m \u001b[0;34m=\u001b[0m \u001b[0mself\u001b[0m\u001b[0;34m.\u001b[0m\u001b[0m_validate_X_predict\u001b[0m\u001b[0;34m(\u001b[0m\u001b[0mX\u001b[0m\u001b[0;34m)\u001b[0m\u001b[0;34m\u001b[0m\u001b[0;34m\u001b[0m\u001b[0m\n\u001b[0m\u001b[1;32m    982\u001b[0m \u001b[0;34m\u001b[0m\u001b[0m\n\u001b[1;32m    983\u001b[0m         \u001b[0;31m# Assign chunk of trees to jobs\u001b[0m\u001b[0;34m\u001b[0m\u001b[0;34m\u001b[0m\u001b[0m\n",
            "\u001b[0;32m/usr/local/lib/python3.10/dist-packages/sklearn/ensemble/_forest.py\u001b[0m in \u001b[0;36m_validate_X_predict\u001b[0;34m(self, X)\u001b[0m\n\u001b[1;32m    600\u001b[0m         Validate X whenever one tries to predict, apply, predict_proba.\"\"\"\n\u001b[1;32m    601\u001b[0m         \u001b[0mcheck_is_fitted\u001b[0m\u001b[0;34m(\u001b[0m\u001b[0mself\u001b[0m\u001b[0;34m)\u001b[0m\u001b[0;34m\u001b[0m\u001b[0;34m\u001b[0m\u001b[0m\n\u001b[0;32m--> 602\u001b[0;31m         \u001b[0mX\u001b[0m \u001b[0;34m=\u001b[0m \u001b[0mself\u001b[0m\u001b[0;34m.\u001b[0m\u001b[0m_validate_data\u001b[0m\u001b[0;34m(\u001b[0m\u001b[0mX\u001b[0m\u001b[0;34m,\u001b[0m \u001b[0mdtype\u001b[0m\u001b[0;34m=\u001b[0m\u001b[0mDTYPE\u001b[0m\u001b[0;34m,\u001b[0m \u001b[0maccept_sparse\u001b[0m\u001b[0;34m=\u001b[0m\u001b[0;34m\"csr\"\u001b[0m\u001b[0;34m,\u001b[0m \u001b[0mreset\u001b[0m\u001b[0;34m=\u001b[0m\u001b[0;32mFalse\u001b[0m\u001b[0;34m)\u001b[0m\u001b[0;34m\u001b[0m\u001b[0;34m\u001b[0m\u001b[0m\n\u001b[0m\u001b[1;32m    603\u001b[0m         \u001b[0;32mif\u001b[0m \u001b[0missparse\u001b[0m\u001b[0;34m(\u001b[0m\u001b[0mX\u001b[0m\u001b[0;34m)\u001b[0m \u001b[0;32mand\u001b[0m \u001b[0;34m(\u001b[0m\u001b[0mX\u001b[0m\u001b[0;34m.\u001b[0m\u001b[0mindices\u001b[0m\u001b[0;34m.\u001b[0m\u001b[0mdtype\u001b[0m \u001b[0;34m!=\u001b[0m \u001b[0mnp\u001b[0m\u001b[0;34m.\u001b[0m\u001b[0mintc\u001b[0m \u001b[0;32mor\u001b[0m \u001b[0mX\u001b[0m\u001b[0;34m.\u001b[0m\u001b[0mindptr\u001b[0m\u001b[0;34m.\u001b[0m\u001b[0mdtype\u001b[0m \u001b[0;34m!=\u001b[0m \u001b[0mnp\u001b[0m\u001b[0;34m.\u001b[0m\u001b[0mintc\u001b[0m\u001b[0;34m)\u001b[0m\u001b[0;34m:\u001b[0m\u001b[0;34m\u001b[0m\u001b[0;34m\u001b[0m\u001b[0m\n\u001b[1;32m    604\u001b[0m             \u001b[0;32mraise\u001b[0m \u001b[0mValueError\u001b[0m\u001b[0;34m(\u001b[0m\u001b[0;34m\"No support for np.int64 index based sparse matrices\"\u001b[0m\u001b[0;34m)\u001b[0m\u001b[0;34m\u001b[0m\u001b[0;34m\u001b[0m\u001b[0m\n",
            "\u001b[0;32m/usr/local/lib/python3.10/dist-packages/sklearn/base.py\u001b[0m in \u001b[0;36m_validate_data\u001b[0;34m(self, X, y, reset, validate_separately, **check_params)\u001b[0m\n\u001b[1;32m    546\u001b[0m             \u001b[0mvalidated\u001b[0m\u001b[0;34m.\u001b[0m\u001b[0;34m\u001b[0m\u001b[0;34m\u001b[0m\u001b[0m\n\u001b[1;32m    547\u001b[0m         \"\"\"\n\u001b[0;32m--> 548\u001b[0;31m         \u001b[0mself\u001b[0m\u001b[0;34m.\u001b[0m\u001b[0m_check_feature_names\u001b[0m\u001b[0;34m(\u001b[0m\u001b[0mX\u001b[0m\u001b[0;34m,\u001b[0m \u001b[0mreset\u001b[0m\u001b[0;34m=\u001b[0m\u001b[0mreset\u001b[0m\u001b[0;34m)\u001b[0m\u001b[0;34m\u001b[0m\u001b[0;34m\u001b[0m\u001b[0m\n\u001b[0m\u001b[1;32m    549\u001b[0m \u001b[0;34m\u001b[0m\u001b[0m\n\u001b[1;32m    550\u001b[0m         \u001b[0;32mif\u001b[0m \u001b[0my\u001b[0m \u001b[0;32mis\u001b[0m \u001b[0;32mNone\u001b[0m \u001b[0;32mand\u001b[0m \u001b[0mself\u001b[0m\u001b[0;34m.\u001b[0m\u001b[0m_get_tags\u001b[0m\u001b[0;34m(\u001b[0m\u001b[0;34m)\u001b[0m\u001b[0;34m[\u001b[0m\u001b[0;34m\"requires_y\"\u001b[0m\u001b[0;34m]\u001b[0m\u001b[0;34m:\u001b[0m\u001b[0;34m\u001b[0m\u001b[0;34m\u001b[0m\u001b[0m\n",
            "\u001b[0;32m/usr/local/lib/python3.10/dist-packages/sklearn/base.py\u001b[0m in \u001b[0;36m_check_feature_names\u001b[0;34m(self, X, reset)\u001b[0m\n\u001b[1;32m    479\u001b[0m                 )\n\u001b[1;32m    480\u001b[0m \u001b[0;34m\u001b[0m\u001b[0m\n\u001b[0;32m--> 481\u001b[0;31m             \u001b[0;32mraise\u001b[0m \u001b[0mValueError\u001b[0m\u001b[0;34m(\u001b[0m\u001b[0mmessage\u001b[0m\u001b[0;34m)\u001b[0m\u001b[0;34m\u001b[0m\u001b[0;34m\u001b[0m\u001b[0m\n\u001b[0m\u001b[1;32m    482\u001b[0m \u001b[0;34m\u001b[0m\u001b[0m\n\u001b[1;32m    483\u001b[0m     def _validate_data(\n",
            "\u001b[0;31mValueError\u001b[0m: The feature names should match those that were passed during fit.\nFeature names seen at fit time, yet now missing:\n- airtemp_max\n- airtemp_mean\n- airtemp_min\n- day_number\n- electricity\n- ...\n"
          ]
        }
      ]
    },
    {
      "cell_type": "code",
      "source": [
        "def create_prediction_file(results:list | np.ndarray, results_dir=\"./\"):\n",
        "    \"\"\"\n",
        "    Function that formats predictions and writes them to a .csv file ready for submission.\n",
        "\n",
        "    :param: results         results to write to the file, list | array\n",
        "    :param: results_dir     directory to write the results file to, str, default current working directory\n",
        "                            make sure the directory exists before writing the files there.\n",
        "\n",
        "    \"\"\"\n",
        "    csv_fname = \"results_{}.csv\".format(datetime.now().strftime('%b%d_%H-%M-%S'))\n",
        "    with open(os.path.join(results_dir, csv_fname), 'w') as f:\n",
        "        f.write('id,meter_reading\\n')\n",
        "        for i, value in enumerate(results):\n",
        "            f.write(str(i) + ',' + str(max(0, value)) + '\\n')\n",
        "    return True"
      ],
      "metadata": {
        "id": "E7onx9LzfDkV"
      },
      "execution_count": null,
      "outputs": []
    },
    {
      "cell_type": "code",
      "source": [
        "create_prediction_file(predictions)"
      ],
      "metadata": {
        "id": "1QGFXuMFfEQF"
      },
      "execution_count": null,
      "outputs": []
    }
  ]
}