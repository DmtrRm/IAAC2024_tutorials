{
  "nbformat": 4,
  "nbformat_minor": 0,
  "metadata": {
    "colab": {
      "provenance": [],
      "name": "kaggle_complete2.ipynb",
      "authorship_tag": "ABX9TyNpX26oNSUO7mXvhFrFGl+Y",
      "include_colab_link": true
    },
    "kernelspec": {
      "name": "python3",
      "display_name": "Python 3"
    },
    "language_info": {
      "name": "python"
    }
  },
  "cells": [
    {
      "cell_type": "markdown",
      "metadata": {
        "id": "view-in-github",
        "colab_type": "text"
      },
      "source": [
        "<a href=\"https://colab.research.google.com/github/DmtrRm/IAAC2024_tutorials/blob/main/kaggle_complete2.ipynb\" target=\"_parent\"><img src=\"https://colab.research.google.com/assets/colab-badge.svg\" alt=\"Open In Colab\"/></a>"
      ]
    },
    {
      "cell_type": "markdown",
      "source": [
        "**LIBRARIES IMPORT**"
      ],
      "metadata": {
        "id": "SzgArP8aRiir"
      }
    },
    {
      "cell_type": "code",
      "execution_count": 254,
      "metadata": {
        "id": "OHtDLQlSRgAj"
      },
      "outputs": [],
      "source": [
        "import calendar\n",
        "from datetime import datetime, timedelta\n",
        "from matplotlib import pyplot as plt\n",
        "import numpy as np\n",
        "import os\n",
        "import pandas as pd\n",
        "import seaborn as sns\n",
        "\n",
        "from sklearn.preprocessing import LabelEncoder\n",
        "from sklearn.ensemble import RandomForestRegressor\n",
        "from sklearn.tree import DecisionTreeRegressor\n",
        "from sklearn.neighbors import KNeighborsRegressor\n",
        "from sklearn.preprocessing import MinMaxScaler"
      ]
    },
    {
      "cell_type": "markdown",
      "source": [
        "**FUNCTIONS THAT WILL BE USED**"
      ],
      "metadata": {
        "id": "kryeDjrXru74"
      }
    },
    {
      "cell_type": "code",
      "source": [
        "def encode_binary_categorical(data_set):\n",
        "  binary_Lbls=[]\n",
        "  categor_Lbls=[]\n",
        "\n",
        "  for c in data_set.columns:\n",
        "\n",
        "    if len(data_set[c].unique())<=3 and any(x==\"Yes\" for x in data_set[c].unique()):\n",
        "      le=LabelEncoder()\n",
        "      res =le.fit_transform(data_set[c])\n",
        "      data_set[c]=1-res\n",
        "      binary_Lbls.append(c)\n",
        "\n",
        "    elif data_set[c].dtype==\"object\" :\n",
        "      le=LabelEncoder()\n",
        "      res =le.fit_transform(data_set[c])\n",
        "      data_set[c]=res\n",
        "      categor_Lbls.append(c)\n",
        "\n",
        "  return categor_Lbls"
      ],
      "metadata": {
        "id": "_5cP2z3crlII"
      },
      "execution_count": 255,
      "outputs": []
    },
    {
      "cell_type": "code",
      "source": [
        "def find_pair_list(corralation,cor_value):\n",
        "\n",
        "\n",
        "  pair_list=[]\n",
        "  x=corralation.shape[0]\n",
        "  y=corralation.shape[1]\n",
        "\n",
        "  for i in range(0,x):\n",
        "    for j in range(0,y):\n",
        "      if (corralation.iloc[i,j]>=cor_value or corralation.iloc[i,j]<=(-cor_value)) and corralation.iloc[i,j]!=1 :\n",
        "        pair_list=pair_list+[(sorted([corralation.columns[i], corralation.columns[j]]))]\n",
        "\n",
        "  groups = []\n",
        "\n",
        "  for pair in pair_list:\n",
        "    added_to_group = False\n",
        "    for group in groups:\n",
        "      if any(variable in group for variable in pair):\n",
        "        group.extend(pair)\n",
        "        group = list(set(group))\n",
        "        added_to_group = True\n",
        "        break\n",
        "    if not added_to_group:\n",
        "      groups.append(pair)\n",
        "\n",
        "  result = [list(set(group)) for group in groups]\n",
        "  return result"
      ],
      "metadata": {
        "id": "DObws_uBroGH"
      },
      "execution_count": 256,
      "outputs": []
    },
    {
      "cell_type": "code",
      "source": [
        "def data_cleaning(i):\n",
        "\n",
        "## dropping same value clm\n",
        "  for c in i.columns:\n",
        "   if len(i[c].unique())==1:\n",
        "    i=i.drop([c], axis=1)\n",
        "\n",
        "## encoding\n",
        "  cLbls_i=encode_binary_categorical(i)\n",
        "\n",
        "## droping dublicates\n",
        "  result_i=find_pair_list(i.corr(),0.9)\n",
        "  print(result_i)\n",
        "  columns_to_drop = sum([x[0:-1] for x in result_i],[])\n",
        "  i=i.drop(columns=columns_to_drop)\n",
        "\n",
        "## filling the NaN\n",
        "  cols_to_drop = []\n",
        "  for c in i.columns:\n",
        "    if len(i[c].isna().unique())>1:\n",
        "      cols_to_drop.append(c)\n",
        "  print(cols_to_drop)\n",
        "\n",
        "  if not cols_to_drop==False:\n",
        "    for n in cols_to_drop:\n",
        "      X = i.loc[i[n].isna()==False].drop(columns=cols_to_drop)\n",
        "      Y = i.loc[i[n].isna()==False][n]\n",
        "      missing_X = i.loc[i[n].isna()].drop(columns=cols_to_drop)\n",
        "      tree = DecisionTreeRegressor()\n",
        "      tree.fit(X, Y)\n",
        "\n",
        "      zipped = [(x, i) for i,x in sorted(zip(tree.feature_importances_, X), reverse=True)]\n",
        "\n",
        "      i[n].loc[i[n].isna()] = tree.predict(missing_X).astype(int)\n",
        "\n",
        "  return i"
      ],
      "metadata": {
        "id": "rfmITbbQxI_h"
      },
      "execution_count": 257,
      "outputs": []
    },
    {
      "cell_type": "markdown",
      "source": [
        "**DATA UPLOADING**"
      ],
      "metadata": {
        "id": "kIT9wLqmRoCq"
      }
    },
    {
      "cell_type": "code",
      "source": [
        "metadata = pd.read_csv(\"/content/DATA/metadata.csv\", index_col=0)\n",
        "meters = pd.read_csv(\"/content/DATA/meters.csv\", index_col=0)\n",
        "test = pd.read_csv(\"/content/DATA/test.csv\", index_col=0)\n",
        "train = pd.read_csv(\"/content/DATA/train.csv\", index_col=0)\n",
        "weather = pd.read_csv(\"/content/DATA/weather.csv\", index_col=0)"
      ],
      "metadata": {
        "id": "QneatCYXTQ3j"
      },
      "execution_count": 258,
      "outputs": []
    },
    {
      "cell_type": "code",
      "source": [
        "weather[['day', 'time']] = weather['timestamp'].str.split(' ', expand=True)"
      ],
      "metadata": {
        "id": "16rIFyWg-KGe"
      },
      "execution_count": 259,
      "outputs": []
    },
    {
      "cell_type": "markdown",
      "source": [
        "**DATA CLEANING**"
      ],
      "metadata": {
        "id": "BHOBSxeerfBe"
      }
    },
    {
      "cell_type": "code",
      "source": [
        "weather[\"day\"] = weather[\"day\"].apply(lambda s: datetime.strptime(s, \"%Y-%m-%d\"))\n",
        "weather[\"year\"] = weather[\"day\"].apply(lambda s: s.year)\n",
        "weather[\"month\"] = weather[\"day\"].apply(lambda s: s.month)\n",
        "weather[\"day_number\"] = weather[\"day\"].apply(lambda s: s.day)\n",
        "weather[\"weekday\"] = weather[\"day\"].apply(lambda s: s.weekday() in [5,6])"
      ],
      "metadata": {
        "id": "0pFqlmFU---3"
      },
      "execution_count": 241,
      "outputs": []
    },
    {
      "cell_type": "code",
      "source": [
        "train[\"day\"] = train[\"day\"].apply(lambda s: datetime.strptime(s, \"%Y-%m-%d\"))\n",
        "train[\"year\"] = train[\"day\"].apply(lambda s: s.year)\n",
        "train[\"month\"] = train[\"day\"].apply(lambda s: s.month)\n",
        "train[\"day_number\"] = train[\"day\"].apply(lambda s: s.day)\n",
        "train[\"weekday\"] = train[\"day\"].apply(lambda s: s.weekday() in [5,6])"
      ],
      "metadata": {
        "id": "6coxEpP00Flj"
      },
      "execution_count": 242,
      "outputs": []
    },
    {
      "cell_type": "code",
      "source": [
        "metadata = data_cleaning(metadata)\n",
        "train = data_cleaning(train)\n",
        "weather = data_cleaning(weather)"
      ],
      "metadata": {
        "colab": {
          "base_uri": "https://localhost:8080/"
        },
        "id": "63PpBurSutOA",
        "outputId": "ba281ab3-3d03-4736-e525-da2327132187"
      },
      "execution_count": 260,
      "outputs": [
        {
          "output_type": "stream",
          "name": "stdout",
          "text": [
            "[['sqft', 'sqm'], ['heatingtype', 'lng', 'timezone', 'lat']]\n",
            "['site_id_kaggle', 'yearbuilt', 'numberoffloors', 'occupants']\n",
            "[]\n",
            "[]\n"
          ]
        },
        {
          "output_type": "stream",
          "name": "stderr",
          "text": [
            "<ipython-input-257-6aa915e1368b>:34: SettingWithCopyWarning: \n",
            "A value is trying to be set on a copy of a slice from a DataFrame\n",
            "\n",
            "See the caveats in the documentation: https://pandas.pydata.org/pandas-docs/stable/user_guide/indexing.html#returning-a-view-versus-a-copy\n",
            "  i[n].loc[i[n].isna()] = tree.predict(missing_X).astype(int)\n",
            "<ipython-input-257-6aa915e1368b>:34: SettingWithCopyWarning: \n",
            "A value is trying to be set on a copy of a slice from a DataFrame\n",
            "\n",
            "See the caveats in the documentation: https://pandas.pydata.org/pandas-docs/stable/user_guide/indexing.html#returning-a-view-versus-a-copy\n",
            "  i[n].loc[i[n].isna()] = tree.predict(missing_X).astype(int)\n",
            "<ipython-input-257-6aa915e1368b>:34: SettingWithCopyWarning: \n",
            "A value is trying to be set on a copy of a slice from a DataFrame\n",
            "\n",
            "See the caveats in the documentation: https://pandas.pydata.org/pandas-docs/stable/user_guide/indexing.html#returning-a-view-versus-a-copy\n",
            "  i[n].loc[i[n].isna()] = tree.predict(missing_X).astype(int)\n",
            "<ipython-input-257-6aa915e1368b>:34: SettingWithCopyWarning: \n",
            "A value is trying to be set on a copy of a slice from a DataFrame\n",
            "\n",
            "See the caveats in the documentation: https://pandas.pydata.org/pandas-docs/stable/user_guide/indexing.html#returning-a-view-versus-a-copy\n",
            "  i[n].loc[i[n].isna()] = tree.predict(missing_X).astype(int)\n"
          ]
        },
        {
          "output_type": "stream",
          "name": "stdout",
          "text": [
            "[['timestamp', 'day']]\n",
            "['airTemperature', 'cloudCoverage', 'dewTemperature', 'precipDepth6HR', 'seaLvlPressure', 'windDirection', 'windSpeed']\n"
          ]
        },
        {
          "output_type": "stream",
          "name": "stderr",
          "text": [
            "<ipython-input-257-6aa915e1368b>:34: SettingWithCopyWarning: \n",
            "A value is trying to be set on a copy of a slice from a DataFrame\n",
            "\n",
            "See the caveats in the documentation: https://pandas.pydata.org/pandas-docs/stable/user_guide/indexing.html#returning-a-view-versus-a-copy\n",
            "  i[n].loc[i[n].isna()] = tree.predict(missing_X).astype(int)\n",
            "<ipython-input-257-6aa915e1368b>:34: SettingWithCopyWarning: \n",
            "A value is trying to be set on a copy of a slice from a DataFrame\n",
            "\n",
            "See the caveats in the documentation: https://pandas.pydata.org/pandas-docs/stable/user_guide/indexing.html#returning-a-view-versus-a-copy\n",
            "  i[n].loc[i[n].isna()] = tree.predict(missing_X).astype(int)\n",
            "<ipython-input-257-6aa915e1368b>:34: SettingWithCopyWarning: \n",
            "A value is trying to be set on a copy of a slice from a DataFrame\n",
            "\n",
            "See the caveats in the documentation: https://pandas.pydata.org/pandas-docs/stable/user_guide/indexing.html#returning-a-view-versus-a-copy\n",
            "  i[n].loc[i[n].isna()] = tree.predict(missing_X).astype(int)\n",
            "<ipython-input-257-6aa915e1368b>:34: SettingWithCopyWarning: \n",
            "A value is trying to be set on a copy of a slice from a DataFrame\n",
            "\n",
            "See the caveats in the documentation: https://pandas.pydata.org/pandas-docs/stable/user_guide/indexing.html#returning-a-view-versus-a-copy\n",
            "  i[n].loc[i[n].isna()] = tree.predict(missing_X).astype(int)\n",
            "<ipython-input-257-6aa915e1368b>:34: SettingWithCopyWarning: \n",
            "A value is trying to be set on a copy of a slice from a DataFrame\n",
            "\n",
            "See the caveats in the documentation: https://pandas.pydata.org/pandas-docs/stable/user_guide/indexing.html#returning-a-view-versus-a-copy\n",
            "  i[n].loc[i[n].isna()] = tree.predict(missing_X).astype(int)\n",
            "<ipython-input-257-6aa915e1368b>:34: SettingWithCopyWarning: \n",
            "A value is trying to be set on a copy of a slice from a DataFrame\n",
            "\n",
            "See the caveats in the documentation: https://pandas.pydata.org/pandas-docs/stable/user_guide/indexing.html#returning-a-view-versus-a-copy\n",
            "  i[n].loc[i[n].isna()] = tree.predict(missing_X).astype(int)\n",
            "<ipython-input-257-6aa915e1368b>:34: SettingWithCopyWarning: \n",
            "A value is trying to be set on a copy of a slice from a DataFrame\n",
            "\n",
            "See the caveats in the documentation: https://pandas.pydata.org/pandas-docs/stable/user_guide/indexing.html#returning-a-view-versus-a-copy\n",
            "  i[n].loc[i[n].isna()] = tree.predict(missing_X).astype(int)\n"
          ]
        }
      ]
    },
    {
      "cell_type": "markdown",
      "source": [
        "**DATA MERGING**"
      ],
      "metadata": {
        "id": "9cTckkHjRry6"
      }
    },
    {
      "cell_type": "code",
      "source": [
        "full_df = train.merge(metadata, on='building_id', how='left')"
      ],
      "metadata": {
        "id": "71X-4VqNVRUj"
      },
      "execution_count": 262,
      "outputs": []
    },
    {
      "cell_type": "code",
      "source": [
        "full_df=full_df.merge(weather, how=\"left\", on=[\"day\", \"site_id\"])"
      ],
      "metadata": {
        "id": "C0KEuicJw-bo"
      },
      "execution_count": 263,
      "outputs": []
    }
  ]
}