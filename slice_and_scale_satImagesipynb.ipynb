{
  "nbformat": 4,
  "nbformat_minor": 0,
  "metadata": {
    "colab": {
      "provenance": [],
      "include_colab_link": true
    },
    "kernelspec": {
      "name": "python3",
      "display_name": "Python 3"
    },
    "language_info": {
      "name": "python"
    }
  },
  "cells": [
    {
      "cell_type": "markdown",
      "metadata": {
        "id": "view-in-github",
        "colab_type": "text"
      },
      "source": [
        "<a href=\"https://colab.research.google.com/github/DmtrRm/IAAC2024_tutorials/blob/main/slice_and_scale_satImagesipynb.ipynb\" target=\"_parent\"><img src=\"https://colab.research.google.com/assets/colab-badge.svg\" alt=\"Open In Colab\"/></a>"
      ]
    },
    {
      "cell_type": "code",
      "execution_count": 1,
      "metadata": {
        "id": "clPSevrwrXV2"
      },
      "outputs": [],
      "source": [
        "from PIL import Image, ImageFile\n",
        "import numpy as np"
      ]
    },
    {
      "cell_type": "code",
      "source": [
        "# upload image\n",
        "from google.colab import drive\n",
        "drive.mount('/content/drive')"
      ],
      "metadata": {
        "id": "IirbSspXteub",
        "colab": {
          "base_uri": "https://localhost:8080/"
        },
        "outputId": "9aec7a77-a4b3-441c-bfd0-fdad2f600e17"
      },
      "execution_count": 2,
      "outputs": [
        {
          "output_type": "stream",
          "name": "stdout",
          "text": [
            "Mounted at /content/drive\n"
          ]
        }
      ]
    },
    {
      "cell_type": "code",
      "source": [
        "# Allow PIL to open very large images\n",
        "Image.MAX_IMAGE_PIXELS = None  # Removing the limit entirely, use with caution\n",
        "ImageFile.LOAD_TRUNCATED_IMAGES = True  # To prevent issues with truncated images\n"
      ],
      "metadata": {
        "id": "k0upuFyjt5yZ"
      },
      "execution_count": 3,
      "outputs": []
    },
    {
      "cell_type": "code",
      "source": [
        "def slice_image(image_path, target_width, target_height, current_mpp, target_mpp):\n",
        "    \"\"\"\n",
        "    Slices an image into smaller segments, with progress output.\n",
        "    Arguments:\n",
        "    - image_path: Path to the large image file.\n",
        "    - target_width: The desired width of each slice in pixels.\n",
        "    - target_height: The desired height of each slice in pixels.\n",
        "    - current_mpp: Current meters per pixel of the image.\n",
        "    - target_mpp: Target meters per pixel for output slices.\n",
        "    \"\"\"\n",
        "    # Open the image\n",
        "    image = Image.open(image_path)\n",
        "\n",
        "    # Calculate scale factor\n",
        "    scale_factor = current_mpp / target_mpp\n",
        "\n",
        "    # Resize image according to the scale factor\n",
        "    new_width = int(image.width * scale_factor)\n",
        "    new_height = int(image.height * scale_factor)\n",
        "    resized_image = image.resize((new_width, new_height), Image.ANTIALIAS)\n",
        "\n",
        "    # Number of slices in each dimension\n",
        "    x_slices = new_width // target_width\n",
        "    y_slices = new_height // target_height\n",
        "    total_slices = x_slices * y_slices\n",
        "\n",
        "    # List to hold the image slices\n",
        "    images = []\n",
        "    print(f\"Total slices to be created: {total_slices}\")\n",
        "\n",
        "    # Progress counter\n",
        "    slice_count = 0\n",
        "\n",
        "    for i in range(y_slices):\n",
        "        for j in range(x_slices):\n",
        "            left = j * target_width\n",
        "            upper = i * target_height\n",
        "            right = left + target_width\n",
        "            lower = upper + target_height\n",
        "\n",
        "            # Crop the image to create a slice\n",
        "            img_slice = resized_image.crop((left, upper, right, lower))\n",
        "            images.append(img_slice)\n",
        "\n",
        "            # Optionally, save the slice\n",
        "            img_slice.save(f'slice_{i}_{j}.png')\n",
        "\n",
        "            # Update progress\n",
        "            slice_count += 1\n",
        "            print(f\"Processed {slice_count} of {total_slices} slices...\")\n",
        "\n",
        "    return images"
      ],
      "metadata": {
        "id": "mDrn5ARRrcL0"
      },
      "execution_count": 4,
      "outputs": []
    },
    {
      "cell_type": "code",
      "source": [
        "def save_images_to_drive(images, output_dir, quality=90):\n",
        "    for idx, image in enumerate(images):\n",
        "        image_path = f\"{output_dir}/slice_{idx}.jpg\"\n",
        "        image.save(image_path, 'JPEG', quality=quality)  # Ensure the format is JPEG if using quality\n",
        "        print(f\"Saved {image_path} at quality {quality}\")\n"
      ],
      "metadata": {
        "id": "HRpxHmOwt2Az"
      },
      "execution_count": 5,
      "outputs": []
    },
    {
      "cell_type": "code",
      "source": [
        "image_path = \"/content/drive/MyDrive/iaac2024/ViennaSatImages/35_3_op_2023.jpg\"\n",
        "target_width = 640  # width of each slice in pixels\n",
        "target_height = 640 # height of each slice in pixels\n",
        "current_mpp = 0.15   # current meters per pixel\n",
        "target_mpp = 0.15    # target meters per pixel\n",
        "\n",
        "sliced_images = slice_image(image_path, target_width, target_height, current_mpp, target_mpp)"
      ],
      "metadata": {
        "id": "EOxwWaFtr7G7",
        "colab": {
          "base_uri": "https://localhost:8080/",
          "height": 321
        },
        "outputId": "3c4203a7-6025-493b-affe-a91664031969"
      },
      "execution_count": 6,
      "outputs": [
        {
          "output_type": "error",
          "ename": "FileNotFoundError",
          "evalue": "[Errno 2] No such file or directory: '/content/drive/MyDrive/iaac2024/ViennaSatImages/35_3_op_2023.jpg'",
          "traceback": [
            "\u001b[0;31m---------------------------------------------------------------------------\u001b[0m",
            "\u001b[0;31mFileNotFoundError\u001b[0m                         Traceback (most recent call last)",
            "\u001b[0;32m<ipython-input-6-2993170561cf>\u001b[0m in \u001b[0;36m<cell line: 7>\u001b[0;34m()\u001b[0m\n\u001b[1;32m      5\u001b[0m \u001b[0mtarget_mpp\u001b[0m \u001b[0;34m=\u001b[0m \u001b[0;36m0.15\u001b[0m    \u001b[0;31m# target meters per pixel\u001b[0m\u001b[0;34m\u001b[0m\u001b[0;34m\u001b[0m\u001b[0m\n\u001b[1;32m      6\u001b[0m \u001b[0;34m\u001b[0m\u001b[0m\n\u001b[0;32m----> 7\u001b[0;31m \u001b[0msliced_images\u001b[0m \u001b[0;34m=\u001b[0m \u001b[0mslice_image\u001b[0m\u001b[0;34m(\u001b[0m\u001b[0mimage_path\u001b[0m\u001b[0;34m,\u001b[0m \u001b[0mtarget_width\u001b[0m\u001b[0;34m,\u001b[0m \u001b[0mtarget_height\u001b[0m\u001b[0;34m,\u001b[0m \u001b[0mcurrent_mpp\u001b[0m\u001b[0;34m,\u001b[0m \u001b[0mtarget_mpp\u001b[0m\u001b[0;34m)\u001b[0m\u001b[0;34m\u001b[0m\u001b[0;34m\u001b[0m\u001b[0m\n\u001b[0m",
            "\u001b[0;32m<ipython-input-4-39e4a1843958>\u001b[0m in \u001b[0;36mslice_image\u001b[0;34m(image_path, target_width, target_height, current_mpp, target_mpp)\u001b[0m\n\u001b[1;32m     10\u001b[0m     \"\"\"\n\u001b[1;32m     11\u001b[0m     \u001b[0;31m# Open the image\u001b[0m\u001b[0;34m\u001b[0m\u001b[0;34m\u001b[0m\u001b[0m\n\u001b[0;32m---> 12\u001b[0;31m     \u001b[0mimage\u001b[0m \u001b[0;34m=\u001b[0m \u001b[0mImage\u001b[0m\u001b[0;34m.\u001b[0m\u001b[0mopen\u001b[0m\u001b[0;34m(\u001b[0m\u001b[0mimage_path\u001b[0m\u001b[0;34m)\u001b[0m\u001b[0;34m\u001b[0m\u001b[0;34m\u001b[0m\u001b[0m\n\u001b[0m\u001b[1;32m     13\u001b[0m \u001b[0;34m\u001b[0m\u001b[0m\n\u001b[1;32m     14\u001b[0m     \u001b[0;31m# Calculate scale factor\u001b[0m\u001b[0;34m\u001b[0m\u001b[0;34m\u001b[0m\u001b[0m\n",
            "\u001b[0;32m/usr/local/lib/python3.10/dist-packages/PIL/Image.py\u001b[0m in \u001b[0;36mopen\u001b[0;34m(fp, mode, formats)\u001b[0m\n\u001b[1;32m   3225\u001b[0m \u001b[0;34m\u001b[0m\u001b[0m\n\u001b[1;32m   3226\u001b[0m     \u001b[0;32mif\u001b[0m \u001b[0mfilename\u001b[0m\u001b[0;34m:\u001b[0m\u001b[0;34m\u001b[0m\u001b[0;34m\u001b[0m\u001b[0m\n\u001b[0;32m-> 3227\u001b[0;31m         \u001b[0mfp\u001b[0m \u001b[0;34m=\u001b[0m \u001b[0mbuiltins\u001b[0m\u001b[0;34m.\u001b[0m\u001b[0mopen\u001b[0m\u001b[0;34m(\u001b[0m\u001b[0mfilename\u001b[0m\u001b[0;34m,\u001b[0m \u001b[0;34m\"rb\"\u001b[0m\u001b[0;34m)\u001b[0m\u001b[0;34m\u001b[0m\u001b[0;34m\u001b[0m\u001b[0m\n\u001b[0m\u001b[1;32m   3228\u001b[0m         \u001b[0mexclusive_fp\u001b[0m \u001b[0;34m=\u001b[0m \u001b[0;32mTrue\u001b[0m\u001b[0;34m\u001b[0m\u001b[0;34m\u001b[0m\u001b[0m\n\u001b[1;32m   3229\u001b[0m \u001b[0;34m\u001b[0m\u001b[0m\n",
            "\u001b[0;31mFileNotFoundError\u001b[0m: [Errno 2] No such file or directory: '/content/drive/MyDrive/iaac2024/ViennaSatImages/35_3_op_2023.jpg'"
          ]
        }
      ]
    },
    {
      "cell_type": "code",
      "source": [
        "# have a look at an image\n",
        "sliced_images[0]"
      ],
      "metadata": {
        "id": "twpJG42UuVEt"
      },
      "execution_count": null,
      "outputs": []
    },
    {
      "cell_type": "code",
      "source": [
        "# Output directory on Google Drive\n",
        "output_dir = '/content/drive/MyDrive/iaac2024/ViennaSatImages/SlicedImages'\n",
        "\n",
        "# Save the slices to Google Drive\n",
        "save_images_to_drive(sliced_images, output_dir)"
      ],
      "metadata": {
        "id": "FnWkTxmDwuxI"
      },
      "execution_count": null,
      "outputs": []
    }
  ]
}