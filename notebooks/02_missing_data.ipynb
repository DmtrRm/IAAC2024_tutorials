{
  "cells": [
    {
      "cell_type": "markdown",
      "metadata": {
        "id": "4idRajiOQEcM"
      },
      "source": [
        "<a href=\"https://colab.research.google.com/github/STASYA00/IAAC2024_tutorials/blob/main/notebooks/02_missing_data.ipynb\" target=\"_parent\"><img src=\"https://colab.research.google.com/assets/colab-badge.svg\" alt=\"Open In Colab\"/></a>"
      ]
    },
    {
      "cell_type": "markdown",
      "metadata": {
        "id": "mY35yrCUQEcO"
      },
      "source": [
        "### Data"
      ]
    },
    {
      "cell_type": "markdown",
      "metadata": {
        "id": "g9CHxgTDQEcO"
      },
      "source": [
        "⚠️ **NOTE:** Kaggle files have already been uploaded to the repo. You find them in folder `kaggle_data`´\n",
        "\n",
        "If you for any reason need to download data from kaggle, instructions are in one of the [optional notebooks](./88_kaggle_data.ipynb) : <a href=\"https://colab.research.google.com/github/STASYA00/IAAC2024_tutorials/blob/main/notebooks/88_kaggle_data.ipynb\" target=\"_parent\"><img src=\"https://colab.research.google.com/assets/colab-badge.svg\" alt=\"Open In Colab\"/></a>"
      ]
    },
    {
      "cell_type": "code",
      "execution_count": null,
      "metadata": {
        "id": "6uLoArBDQEcP"
      },
      "outputs": [],
      "source": [
        "!git clone https://github.com/STASYA00/IAAC2024_tutorials\n",
        "%cd IAAC2024_tutorials/notebooks"
      ]
    },
    {
      "cell_type": "code",
      "execution_count": 3,
      "metadata": {
        "id": "0hHwkljxQEcQ"
      },
      "outputs": [],
      "source": [
        "# importing the necessary packages\n",
        "\n",
        "from matplotlib import pyplot as plt\n",
        "import pandas as pd\n",
        "import seaborn as sns\n"
      ]
    },
    {
      "cell_type": "markdown",
      "metadata": {
        "id": "t5lrg97MQEcQ"
      },
      "source": [
        "## 🏡 Buildings' Efficiency - Missing data"
      ]
    },
    {
      "cell_type": "markdown",
      "metadata": {
        "id": "gervGzTwQEcQ"
      },
      "source": [
        "### The why of missing values"
      ]
    },
    {
      "cell_type": "markdown",
      "metadata": {
        "id": "dA5k0vdMQEcQ"
      },
      "source": [
        "There are several reasons for having missing values, some of which are:\n",
        "* equipment failure (e.g. GPS sensors), missing cells in manual data entry, censored/anonymous data\n",
        "* unfilled optional values (e.g. \"anything else you would like to add\" - question in a survey)\n",
        "* data was not originally collected (two datasets were merged, one had \"year\" records and another one didn't)\n",
        "* and so on\n",
        "\n",
        "For us it is important to understand why the values might be missing, as it gives us an understanding of how to treat them. There are several strategies:\n",
        "* Remove rows or columns with missing values (used when there are many missing values along one axis)\n",
        "* Assign an arbitrary value, like 18783 or 0 as to say \"this value is missing\" (used when we can not remove records from the db)\n",
        "* Fill in missing values using some logic (e.g. assuming the number of occupants in a building based on similar buildings around or getting the year it was built in from another data source).\n",
        "    "
      ]
    },
    {
      "cell_type": "markdown",
      "metadata": {
        "id": "gIS9wt5fQEcR"
      },
      "source": [
        "**How to find missing values:**\n",
        "\n",
        "[Click>>](https://www.google.com/search?q=pandas+find+missing+values&oq=pandas+find+missing+values&gs_lcrp=EgZjaHJvbWUyBggAEEUYOTIGCAEQLhhA0gEINTg2N2owajGoAgCwAgA&sourceid=chrome&ie=UTF-8)"
      ]
    },
    {
      "cell_type": "markdown",
      "metadata": {
        "id": "Lzj5b2RhQEcR"
      },
      "source": [
        "One of the methods is to check for each cell whether it is a NaN value and look at the values count that we are already familiar with:"
      ]
    },
    {
      "cell_type": "code",
      "execution_count": 64,
      "metadata": {
        "colab": {
          "base_uri": "https://localhost:8080/",
          "height": 226
        },
        "id": "72sAB9JxQEcR",
        "outputId": "c85217f3-dc92-4e66-bf49-1ca147cb6b1b"
      },
      "outputs": [
        {
          "output_type": "execute_result",
          "data": {
            "text/plain": [
              "     building_id  site_id  primaryspaceusage  sub_primaryspaceusage     sqm  \\\n",
              "136          432        3                  0                      2  4703.0   \n",
              "137          416        3                  0                      2   499.3   \n",
              "138          436        3                  0                      2  9061.0   \n",
              "139          441        3                  0                      3  7579.0   \n",
              "140          442        3                  0                      3  5295.0   \n",
              "\n",
              "     timezone  electricity  hotwater  water  gas  industry  subindustry  \\\n",
              "136         1            1         0      0    0         0            2   \n",
              "137         1            1         1      0    0         0            2   \n",
              "138         1            1         0      0    0         0            2   \n",
              "139         1            1         0      0    0         0            2   \n",
              "140         1            1         1      0    0         0            2   \n",
              "\n",
              "     yearbuilt  numberoffloors  occupants  rating  \n",
              "136        NaN             5.0        NaN       8  \n",
              "137        NaN             4.0        NaN       9  \n",
              "138     2005.0            10.0        NaN       7  \n",
              "139     1913.0             5.0        NaN       9  \n",
              "140     1953.0             6.0        NaN       8  "
            ],
            "text/html": [
              "\n",
              "  <div id=\"df-912af72b-2590-4dfb-8903-aeb1ea769919\" class=\"colab-df-container\">\n",
              "    <div>\n",
              "<style scoped>\n",
              "    .dataframe tbody tr th:only-of-type {\n",
              "        vertical-align: middle;\n",
              "    }\n",
              "\n",
              "    .dataframe tbody tr th {\n",
              "        vertical-align: top;\n",
              "    }\n",
              "\n",
              "    .dataframe thead th {\n",
              "        text-align: right;\n",
              "    }\n",
              "</style>\n",
              "<table border=\"1\" class=\"dataframe\">\n",
              "  <thead>\n",
              "    <tr style=\"text-align: right;\">\n",
              "      <th></th>\n",
              "      <th>building_id</th>\n",
              "      <th>site_id</th>\n",
              "      <th>primaryspaceusage</th>\n",
              "      <th>sub_primaryspaceusage</th>\n",
              "      <th>sqm</th>\n",
              "      <th>timezone</th>\n",
              "      <th>electricity</th>\n",
              "      <th>hotwater</th>\n",
              "      <th>water</th>\n",
              "      <th>gas</th>\n",
              "      <th>industry</th>\n",
              "      <th>subindustry</th>\n",
              "      <th>yearbuilt</th>\n",
              "      <th>numberoffloors</th>\n",
              "      <th>occupants</th>\n",
              "      <th>rating</th>\n",
              "    </tr>\n",
              "  </thead>\n",
              "  <tbody>\n",
              "    <tr>\n",
              "      <th>136</th>\n",
              "      <td>432</td>\n",
              "      <td>3</td>\n",
              "      <td>0</td>\n",
              "      <td>2</td>\n",
              "      <td>4703.0</td>\n",
              "      <td>1</td>\n",
              "      <td>1</td>\n",
              "      <td>0</td>\n",
              "      <td>0</td>\n",
              "      <td>0</td>\n",
              "      <td>0</td>\n",
              "      <td>2</td>\n",
              "      <td>NaN</td>\n",
              "      <td>5.0</td>\n",
              "      <td>NaN</td>\n",
              "      <td>8</td>\n",
              "    </tr>\n",
              "    <tr>\n",
              "      <th>137</th>\n",
              "      <td>416</td>\n",
              "      <td>3</td>\n",
              "      <td>0</td>\n",
              "      <td>2</td>\n",
              "      <td>499.3</td>\n",
              "      <td>1</td>\n",
              "      <td>1</td>\n",
              "      <td>1</td>\n",
              "      <td>0</td>\n",
              "      <td>0</td>\n",
              "      <td>0</td>\n",
              "      <td>2</td>\n",
              "      <td>NaN</td>\n",
              "      <td>4.0</td>\n",
              "      <td>NaN</td>\n",
              "      <td>9</td>\n",
              "    </tr>\n",
              "    <tr>\n",
              "      <th>138</th>\n",
              "      <td>436</td>\n",
              "      <td>3</td>\n",
              "      <td>0</td>\n",
              "      <td>2</td>\n",
              "      <td>9061.0</td>\n",
              "      <td>1</td>\n",
              "      <td>1</td>\n",
              "      <td>0</td>\n",
              "      <td>0</td>\n",
              "      <td>0</td>\n",
              "      <td>0</td>\n",
              "      <td>2</td>\n",
              "      <td>2005.0</td>\n",
              "      <td>10.0</td>\n",
              "      <td>NaN</td>\n",
              "      <td>7</td>\n",
              "    </tr>\n",
              "    <tr>\n",
              "      <th>139</th>\n",
              "      <td>441</td>\n",
              "      <td>3</td>\n",
              "      <td>0</td>\n",
              "      <td>3</td>\n",
              "      <td>7579.0</td>\n",
              "      <td>1</td>\n",
              "      <td>1</td>\n",
              "      <td>0</td>\n",
              "      <td>0</td>\n",
              "      <td>0</td>\n",
              "      <td>0</td>\n",
              "      <td>2</td>\n",
              "      <td>1913.0</td>\n",
              "      <td>5.0</td>\n",
              "      <td>NaN</td>\n",
              "      <td>9</td>\n",
              "    </tr>\n",
              "    <tr>\n",
              "      <th>140</th>\n",
              "      <td>442</td>\n",
              "      <td>3</td>\n",
              "      <td>0</td>\n",
              "      <td>3</td>\n",
              "      <td>5295.0</td>\n",
              "      <td>1</td>\n",
              "      <td>1</td>\n",
              "      <td>1</td>\n",
              "      <td>0</td>\n",
              "      <td>0</td>\n",
              "      <td>0</td>\n",
              "      <td>2</td>\n",
              "      <td>1953.0</td>\n",
              "      <td>6.0</td>\n",
              "      <td>NaN</td>\n",
              "      <td>8</td>\n",
              "    </tr>\n",
              "  </tbody>\n",
              "</table>\n",
              "</div>\n",
              "    <div class=\"colab-df-buttons\">\n",
              "\n",
              "  <div class=\"colab-df-container\">\n",
              "    <button class=\"colab-df-convert\" onclick=\"convertToInteractive('df-912af72b-2590-4dfb-8903-aeb1ea769919')\"\n",
              "            title=\"Convert this dataframe to an interactive table.\"\n",
              "            style=\"display:none;\">\n",
              "\n",
              "  <svg xmlns=\"http://www.w3.org/2000/svg\" height=\"24px\" viewBox=\"0 -960 960 960\">\n",
              "    <path d=\"M120-120v-720h720v720H120Zm60-500h600v-160H180v160Zm220 220h160v-160H400v160Zm0 220h160v-160H400v160ZM180-400h160v-160H180v160Zm440 0h160v-160H620v160ZM180-180h160v-160H180v160Zm440 0h160v-160H620v160Z\"/>\n",
              "  </svg>\n",
              "    </button>\n",
              "\n",
              "  <style>\n",
              "    .colab-df-container {\n",
              "      display:flex;\n",
              "      gap: 12px;\n",
              "    }\n",
              "\n",
              "    .colab-df-convert {\n",
              "      background-color: #E8F0FE;\n",
              "      border: none;\n",
              "      border-radius: 50%;\n",
              "      cursor: pointer;\n",
              "      display: none;\n",
              "      fill: #1967D2;\n",
              "      height: 32px;\n",
              "      padding: 0 0 0 0;\n",
              "      width: 32px;\n",
              "    }\n",
              "\n",
              "    .colab-df-convert:hover {\n",
              "      background-color: #E2EBFA;\n",
              "      box-shadow: 0px 1px 2px rgba(60, 64, 67, 0.3), 0px 1px 3px 1px rgba(60, 64, 67, 0.15);\n",
              "      fill: #174EA6;\n",
              "    }\n",
              "\n",
              "    .colab-df-buttons div {\n",
              "      margin-bottom: 4px;\n",
              "    }\n",
              "\n",
              "    [theme=dark] .colab-df-convert {\n",
              "      background-color: #3B4455;\n",
              "      fill: #D2E3FC;\n",
              "    }\n",
              "\n",
              "    [theme=dark] .colab-df-convert:hover {\n",
              "      background-color: #434B5C;\n",
              "      box-shadow: 0px 1px 3px 1px rgba(0, 0, 0, 0.15);\n",
              "      filter: drop-shadow(0px 1px 2px rgba(0, 0, 0, 0.3));\n",
              "      fill: #FFFFFF;\n",
              "    }\n",
              "  </style>\n",
              "\n",
              "    <script>\n",
              "      const buttonEl =\n",
              "        document.querySelector('#df-912af72b-2590-4dfb-8903-aeb1ea769919 button.colab-df-convert');\n",
              "      buttonEl.style.display =\n",
              "        google.colab.kernel.accessAllowed ? 'block' : 'none';\n",
              "\n",
              "      async function convertToInteractive(key) {\n",
              "        const element = document.querySelector('#df-912af72b-2590-4dfb-8903-aeb1ea769919');\n",
              "        const dataTable =\n",
              "          await google.colab.kernel.invokeFunction('convertToInteractive',\n",
              "                                                    [key], {});\n",
              "        if (!dataTable) return;\n",
              "\n",
              "        const docLinkHtml = 'Like what you see? Visit the ' +\n",
              "          '<a target=\"_blank\" href=https://colab.research.google.com/notebooks/data_table.ipynb>data table notebook</a>'\n",
              "          + ' to learn more about interactive tables.';\n",
              "        element.innerHTML = '';\n",
              "        dataTable['output_type'] = 'display_data';\n",
              "        await google.colab.output.renderOutput(dataTable, element);\n",
              "        const docLink = document.createElement('div');\n",
              "        docLink.innerHTML = docLinkHtml;\n",
              "        element.appendChild(docLink);\n",
              "      }\n",
              "    </script>\n",
              "  </div>\n",
              "\n",
              "\n",
              "<div id=\"df-714137d2-e3ac-434d-b604-ed287f336210\">\n",
              "  <button class=\"colab-df-quickchart\" onclick=\"quickchart('df-714137d2-e3ac-434d-b604-ed287f336210')\"\n",
              "            title=\"Suggest charts\"\n",
              "            style=\"display:none;\">\n",
              "\n",
              "<svg xmlns=\"http://www.w3.org/2000/svg\" height=\"24px\"viewBox=\"0 0 24 24\"\n",
              "     width=\"24px\">\n",
              "    <g>\n",
              "        <path d=\"M19 3H5c-1.1 0-2 .9-2 2v14c0 1.1.9 2 2 2h14c1.1 0 2-.9 2-2V5c0-1.1-.9-2-2-2zM9 17H7v-7h2v7zm4 0h-2V7h2v10zm4 0h-2v-4h2v4z\"/>\n",
              "    </g>\n",
              "</svg>\n",
              "  </button>\n",
              "\n",
              "<style>\n",
              "  .colab-df-quickchart {\n",
              "      --bg-color: #E8F0FE;\n",
              "      --fill-color: #1967D2;\n",
              "      --hover-bg-color: #E2EBFA;\n",
              "      --hover-fill-color: #174EA6;\n",
              "      --disabled-fill-color: #AAA;\n",
              "      --disabled-bg-color: #DDD;\n",
              "  }\n",
              "\n",
              "  [theme=dark] .colab-df-quickchart {\n",
              "      --bg-color: #3B4455;\n",
              "      --fill-color: #D2E3FC;\n",
              "      --hover-bg-color: #434B5C;\n",
              "      --hover-fill-color: #FFFFFF;\n",
              "      --disabled-bg-color: #3B4455;\n",
              "      --disabled-fill-color: #666;\n",
              "  }\n",
              "\n",
              "  .colab-df-quickchart {\n",
              "    background-color: var(--bg-color);\n",
              "    border: none;\n",
              "    border-radius: 50%;\n",
              "    cursor: pointer;\n",
              "    display: none;\n",
              "    fill: var(--fill-color);\n",
              "    height: 32px;\n",
              "    padding: 0;\n",
              "    width: 32px;\n",
              "  }\n",
              "\n",
              "  .colab-df-quickchart:hover {\n",
              "    background-color: var(--hover-bg-color);\n",
              "    box-shadow: 0 1px 2px rgba(60, 64, 67, 0.3), 0 1px 3px 1px rgba(60, 64, 67, 0.15);\n",
              "    fill: var(--button-hover-fill-color);\n",
              "  }\n",
              "\n",
              "  .colab-df-quickchart-complete:disabled,\n",
              "  .colab-df-quickchart-complete:disabled:hover {\n",
              "    background-color: var(--disabled-bg-color);\n",
              "    fill: var(--disabled-fill-color);\n",
              "    box-shadow: none;\n",
              "  }\n",
              "\n",
              "  .colab-df-spinner {\n",
              "    border: 2px solid var(--fill-color);\n",
              "    border-color: transparent;\n",
              "    border-bottom-color: var(--fill-color);\n",
              "    animation:\n",
              "      spin 1s steps(1) infinite;\n",
              "  }\n",
              "\n",
              "  @keyframes spin {\n",
              "    0% {\n",
              "      border-color: transparent;\n",
              "      border-bottom-color: var(--fill-color);\n",
              "      border-left-color: var(--fill-color);\n",
              "    }\n",
              "    20% {\n",
              "      border-color: transparent;\n",
              "      border-left-color: var(--fill-color);\n",
              "      border-top-color: var(--fill-color);\n",
              "    }\n",
              "    30% {\n",
              "      border-color: transparent;\n",
              "      border-left-color: var(--fill-color);\n",
              "      border-top-color: var(--fill-color);\n",
              "      border-right-color: var(--fill-color);\n",
              "    }\n",
              "    40% {\n",
              "      border-color: transparent;\n",
              "      border-right-color: var(--fill-color);\n",
              "      border-top-color: var(--fill-color);\n",
              "    }\n",
              "    60% {\n",
              "      border-color: transparent;\n",
              "      border-right-color: var(--fill-color);\n",
              "    }\n",
              "    80% {\n",
              "      border-color: transparent;\n",
              "      border-right-color: var(--fill-color);\n",
              "      border-bottom-color: var(--fill-color);\n",
              "    }\n",
              "    90% {\n",
              "      border-color: transparent;\n",
              "      border-bottom-color: var(--fill-color);\n",
              "    }\n",
              "  }\n",
              "</style>\n",
              "\n",
              "  <script>\n",
              "    async function quickchart(key) {\n",
              "      const quickchartButtonEl =\n",
              "        document.querySelector('#' + key + ' button');\n",
              "      quickchartButtonEl.disabled = true;  // To prevent multiple clicks.\n",
              "      quickchartButtonEl.classList.add('colab-df-spinner');\n",
              "      try {\n",
              "        const charts = await google.colab.kernel.invokeFunction(\n",
              "            'suggestCharts', [key], {});\n",
              "      } catch (error) {\n",
              "        console.error('Error during call to suggestCharts:', error);\n",
              "      }\n",
              "      quickchartButtonEl.classList.remove('colab-df-spinner');\n",
              "      quickchartButtonEl.classList.add('colab-df-quickchart-complete');\n",
              "    }\n",
              "    (() => {\n",
              "      let quickchartButtonEl =\n",
              "        document.querySelector('#df-714137d2-e3ac-434d-b604-ed287f336210 button');\n",
              "      quickchartButtonEl.style.display =\n",
              "        google.colab.kernel.accessAllowed ? 'block' : 'none';\n",
              "    })();\n",
              "  </script>\n",
              "</div>\n",
              "    </div>\n",
              "  </div>\n"
            ]
          },
          "metadata": {},
          "execution_count": 64
        }
      ],
      "source": [
        "metadata = pd.read_csv(\"/content/metadata_new\", index_col=0, on_bad_lines='skip')\n",
        "metadata_non_encoded = pd.read_csv(\"/content/metadata.csv\", index_col=0, on_bad_lines='skip')\n",
        "metadata.head()"
      ]
    },
    {
      "cell_type": "code",
      "execution_count": 9,
      "metadata": {
        "colab": {
          "base_uri": "https://localhost:8080/",
          "height": 443
        },
        "id": "MRfA8o_JQEcS",
        "outputId": "d4f2c811-7403-404d-8fa9-b03cab607b94"
      },
      "outputs": [
        {
          "output_type": "execute_result",
          "data": {
            "text/plain": [
              "      building_id  site_id  primaryspaceusage  sub_primaryspaceusage    sqm  \\\n",
              "136         False    False              False                  False  False   \n",
              "137         False    False              False                  False  False   \n",
              "138         False    False              False                  False  False   \n",
              "139         False    False              False                  False  False   \n",
              "140         False    False              False                  False  False   \n",
              "...           ...      ...                ...                    ...    ...   \n",
              "1631        False    False              False                  False  False   \n",
              "1632        False    False              False                  False  False   \n",
              "1633        False    False              False                  False  False   \n",
              "1634        False    False              False                  False  False   \n",
              "1635        False    False              False                  False  False   \n",
              "\n",
              "      timezone  electricity  hotwater  water    gas  industry  subindustry  \\\n",
              "136      False        False     False  False  False     False        False   \n",
              "137      False        False     False  False  False     False        False   \n",
              "138      False        False     False  False  False     False        False   \n",
              "139      False        False     False  False  False     False        False   \n",
              "140      False        False     False  False  False     False        False   \n",
              "...        ...          ...       ...    ...    ...       ...          ...   \n",
              "1631     False        False     False  False  False     False        False   \n",
              "1632     False        False     False  False  False     False        False   \n",
              "1633     False        False     False  False  False     False        False   \n",
              "1634     False        False     False  False  False     False        False   \n",
              "1635     False        False     False  False  False     False        False   \n",
              "\n",
              "      yearbuilt  numberoffloors  occupants  rating  \n",
              "136        True           False       True   False  \n",
              "137        True           False       True   False  \n",
              "138       False           False       True   False  \n",
              "139       False           False       True   False  \n",
              "140       False           False       True   False  \n",
              "...         ...             ...        ...     ...  \n",
              "1631      False           False       True   False  \n",
              "1632      False           False       True   False  \n",
              "1633       True           False       True   False  \n",
              "1634      False           False       True   False  \n",
              "1635      False           False       True   False  \n",
              "\n",
              "[251 rows x 16 columns]"
            ],
            "text/html": [
              "\n",
              "  <div id=\"df-275327a6-1042-4673-816c-208d6378c585\" class=\"colab-df-container\">\n",
              "    <div>\n",
              "<style scoped>\n",
              "    .dataframe tbody tr th:only-of-type {\n",
              "        vertical-align: middle;\n",
              "    }\n",
              "\n",
              "    .dataframe tbody tr th {\n",
              "        vertical-align: top;\n",
              "    }\n",
              "\n",
              "    .dataframe thead th {\n",
              "        text-align: right;\n",
              "    }\n",
              "</style>\n",
              "<table border=\"1\" class=\"dataframe\">\n",
              "  <thead>\n",
              "    <tr style=\"text-align: right;\">\n",
              "      <th></th>\n",
              "      <th>building_id</th>\n",
              "      <th>site_id</th>\n",
              "      <th>primaryspaceusage</th>\n",
              "      <th>sub_primaryspaceusage</th>\n",
              "      <th>sqm</th>\n",
              "      <th>timezone</th>\n",
              "      <th>electricity</th>\n",
              "      <th>hotwater</th>\n",
              "      <th>water</th>\n",
              "      <th>gas</th>\n",
              "      <th>industry</th>\n",
              "      <th>subindustry</th>\n",
              "      <th>yearbuilt</th>\n",
              "      <th>numberoffloors</th>\n",
              "      <th>occupants</th>\n",
              "      <th>rating</th>\n",
              "    </tr>\n",
              "  </thead>\n",
              "  <tbody>\n",
              "    <tr>\n",
              "      <th>136</th>\n",
              "      <td>False</td>\n",
              "      <td>False</td>\n",
              "      <td>False</td>\n",
              "      <td>False</td>\n",
              "      <td>False</td>\n",
              "      <td>False</td>\n",
              "      <td>False</td>\n",
              "      <td>False</td>\n",
              "      <td>False</td>\n",
              "      <td>False</td>\n",
              "      <td>False</td>\n",
              "      <td>False</td>\n",
              "      <td>True</td>\n",
              "      <td>False</td>\n",
              "      <td>True</td>\n",
              "      <td>False</td>\n",
              "    </tr>\n",
              "    <tr>\n",
              "      <th>137</th>\n",
              "      <td>False</td>\n",
              "      <td>False</td>\n",
              "      <td>False</td>\n",
              "      <td>False</td>\n",
              "      <td>False</td>\n",
              "      <td>False</td>\n",
              "      <td>False</td>\n",
              "      <td>False</td>\n",
              "      <td>False</td>\n",
              "      <td>False</td>\n",
              "      <td>False</td>\n",
              "      <td>False</td>\n",
              "      <td>True</td>\n",
              "      <td>False</td>\n",
              "      <td>True</td>\n",
              "      <td>False</td>\n",
              "    </tr>\n",
              "    <tr>\n",
              "      <th>138</th>\n",
              "      <td>False</td>\n",
              "      <td>False</td>\n",
              "      <td>False</td>\n",
              "      <td>False</td>\n",
              "      <td>False</td>\n",
              "      <td>False</td>\n",
              "      <td>False</td>\n",
              "      <td>False</td>\n",
              "      <td>False</td>\n",
              "      <td>False</td>\n",
              "      <td>False</td>\n",
              "      <td>False</td>\n",
              "      <td>False</td>\n",
              "      <td>False</td>\n",
              "      <td>True</td>\n",
              "      <td>False</td>\n",
              "    </tr>\n",
              "    <tr>\n",
              "      <th>139</th>\n",
              "      <td>False</td>\n",
              "      <td>False</td>\n",
              "      <td>False</td>\n",
              "      <td>False</td>\n",
              "      <td>False</td>\n",
              "      <td>False</td>\n",
              "      <td>False</td>\n",
              "      <td>False</td>\n",
              "      <td>False</td>\n",
              "      <td>False</td>\n",
              "      <td>False</td>\n",
              "      <td>False</td>\n",
              "      <td>False</td>\n",
              "      <td>False</td>\n",
              "      <td>True</td>\n",
              "      <td>False</td>\n",
              "    </tr>\n",
              "    <tr>\n",
              "      <th>140</th>\n",
              "      <td>False</td>\n",
              "      <td>False</td>\n",
              "      <td>False</td>\n",
              "      <td>False</td>\n",
              "      <td>False</td>\n",
              "      <td>False</td>\n",
              "      <td>False</td>\n",
              "      <td>False</td>\n",
              "      <td>False</td>\n",
              "      <td>False</td>\n",
              "      <td>False</td>\n",
              "      <td>False</td>\n",
              "      <td>False</td>\n",
              "      <td>False</td>\n",
              "      <td>True</td>\n",
              "      <td>False</td>\n",
              "    </tr>\n",
              "    <tr>\n",
              "      <th>...</th>\n",
              "      <td>...</td>\n",
              "      <td>...</td>\n",
              "      <td>...</td>\n",
              "      <td>...</td>\n",
              "      <td>...</td>\n",
              "      <td>...</td>\n",
              "      <td>...</td>\n",
              "      <td>...</td>\n",
              "      <td>...</td>\n",
              "      <td>...</td>\n",
              "      <td>...</td>\n",
              "      <td>...</td>\n",
              "      <td>...</td>\n",
              "      <td>...</td>\n",
              "      <td>...</td>\n",
              "      <td>...</td>\n",
              "    </tr>\n",
              "    <tr>\n",
              "      <th>1631</th>\n",
              "      <td>False</td>\n",
              "      <td>False</td>\n",
              "      <td>False</td>\n",
              "      <td>False</td>\n",
              "      <td>False</td>\n",
              "      <td>False</td>\n",
              "      <td>False</td>\n",
              "      <td>False</td>\n",
              "      <td>False</td>\n",
              "      <td>False</td>\n",
              "      <td>False</td>\n",
              "      <td>False</td>\n",
              "      <td>False</td>\n",
              "      <td>False</td>\n",
              "      <td>True</td>\n",
              "      <td>False</td>\n",
              "    </tr>\n",
              "    <tr>\n",
              "      <th>1632</th>\n",
              "      <td>False</td>\n",
              "      <td>False</td>\n",
              "      <td>False</td>\n",
              "      <td>False</td>\n",
              "      <td>False</td>\n",
              "      <td>False</td>\n",
              "      <td>False</td>\n",
              "      <td>False</td>\n",
              "      <td>False</td>\n",
              "      <td>False</td>\n",
              "      <td>False</td>\n",
              "      <td>False</td>\n",
              "      <td>False</td>\n",
              "      <td>False</td>\n",
              "      <td>True</td>\n",
              "      <td>False</td>\n",
              "    </tr>\n",
              "    <tr>\n",
              "      <th>1633</th>\n",
              "      <td>False</td>\n",
              "      <td>False</td>\n",
              "      <td>False</td>\n",
              "      <td>False</td>\n",
              "      <td>False</td>\n",
              "      <td>False</td>\n",
              "      <td>False</td>\n",
              "      <td>False</td>\n",
              "      <td>False</td>\n",
              "      <td>False</td>\n",
              "      <td>False</td>\n",
              "      <td>False</td>\n",
              "      <td>True</td>\n",
              "      <td>False</td>\n",
              "      <td>True</td>\n",
              "      <td>False</td>\n",
              "    </tr>\n",
              "    <tr>\n",
              "      <th>1634</th>\n",
              "      <td>False</td>\n",
              "      <td>False</td>\n",
              "      <td>False</td>\n",
              "      <td>False</td>\n",
              "      <td>False</td>\n",
              "      <td>False</td>\n",
              "      <td>False</td>\n",
              "      <td>False</td>\n",
              "      <td>False</td>\n",
              "      <td>False</td>\n",
              "      <td>False</td>\n",
              "      <td>False</td>\n",
              "      <td>False</td>\n",
              "      <td>False</td>\n",
              "      <td>True</td>\n",
              "      <td>False</td>\n",
              "    </tr>\n",
              "    <tr>\n",
              "      <th>1635</th>\n",
              "      <td>False</td>\n",
              "      <td>False</td>\n",
              "      <td>False</td>\n",
              "      <td>False</td>\n",
              "      <td>False</td>\n",
              "      <td>False</td>\n",
              "      <td>False</td>\n",
              "      <td>False</td>\n",
              "      <td>False</td>\n",
              "      <td>False</td>\n",
              "      <td>False</td>\n",
              "      <td>False</td>\n",
              "      <td>False</td>\n",
              "      <td>False</td>\n",
              "      <td>True</td>\n",
              "      <td>False</td>\n",
              "    </tr>\n",
              "  </tbody>\n",
              "</table>\n",
              "<p>251 rows × 16 columns</p>\n",
              "</div>\n",
              "    <div class=\"colab-df-buttons\">\n",
              "\n",
              "  <div class=\"colab-df-container\">\n",
              "    <button class=\"colab-df-convert\" onclick=\"convertToInteractive('df-275327a6-1042-4673-816c-208d6378c585')\"\n",
              "            title=\"Convert this dataframe to an interactive table.\"\n",
              "            style=\"display:none;\">\n",
              "\n",
              "  <svg xmlns=\"http://www.w3.org/2000/svg\" height=\"24px\" viewBox=\"0 -960 960 960\">\n",
              "    <path d=\"M120-120v-720h720v720H120Zm60-500h600v-160H180v160Zm220 220h160v-160H400v160Zm0 220h160v-160H400v160ZM180-400h160v-160H180v160Zm440 0h160v-160H620v160ZM180-180h160v-160H180v160Zm440 0h160v-160H620v160Z\"/>\n",
              "  </svg>\n",
              "    </button>\n",
              "\n",
              "  <style>\n",
              "    .colab-df-container {\n",
              "      display:flex;\n",
              "      gap: 12px;\n",
              "    }\n",
              "\n",
              "    .colab-df-convert {\n",
              "      background-color: #E8F0FE;\n",
              "      border: none;\n",
              "      border-radius: 50%;\n",
              "      cursor: pointer;\n",
              "      display: none;\n",
              "      fill: #1967D2;\n",
              "      height: 32px;\n",
              "      padding: 0 0 0 0;\n",
              "      width: 32px;\n",
              "    }\n",
              "\n",
              "    .colab-df-convert:hover {\n",
              "      background-color: #E2EBFA;\n",
              "      box-shadow: 0px 1px 2px rgba(60, 64, 67, 0.3), 0px 1px 3px 1px rgba(60, 64, 67, 0.15);\n",
              "      fill: #174EA6;\n",
              "    }\n",
              "\n",
              "    .colab-df-buttons div {\n",
              "      margin-bottom: 4px;\n",
              "    }\n",
              "\n",
              "    [theme=dark] .colab-df-convert {\n",
              "      background-color: #3B4455;\n",
              "      fill: #D2E3FC;\n",
              "    }\n",
              "\n",
              "    [theme=dark] .colab-df-convert:hover {\n",
              "      background-color: #434B5C;\n",
              "      box-shadow: 0px 1px 3px 1px rgba(0, 0, 0, 0.15);\n",
              "      filter: drop-shadow(0px 1px 2px rgba(0, 0, 0, 0.3));\n",
              "      fill: #FFFFFF;\n",
              "    }\n",
              "  </style>\n",
              "\n",
              "    <script>\n",
              "      const buttonEl =\n",
              "        document.querySelector('#df-275327a6-1042-4673-816c-208d6378c585 button.colab-df-convert');\n",
              "      buttonEl.style.display =\n",
              "        google.colab.kernel.accessAllowed ? 'block' : 'none';\n",
              "\n",
              "      async function convertToInteractive(key) {\n",
              "        const element = document.querySelector('#df-275327a6-1042-4673-816c-208d6378c585');\n",
              "        const dataTable =\n",
              "          await google.colab.kernel.invokeFunction('convertToInteractive',\n",
              "                                                    [key], {});\n",
              "        if (!dataTable) return;\n",
              "\n",
              "        const docLinkHtml = 'Like what you see? Visit the ' +\n",
              "          '<a target=\"_blank\" href=https://colab.research.google.com/notebooks/data_table.ipynb>data table notebook</a>'\n",
              "          + ' to learn more about interactive tables.';\n",
              "        element.innerHTML = '';\n",
              "        dataTable['output_type'] = 'display_data';\n",
              "        await google.colab.output.renderOutput(dataTable, element);\n",
              "        const docLink = document.createElement('div');\n",
              "        docLink.innerHTML = docLinkHtml;\n",
              "        element.appendChild(docLink);\n",
              "      }\n",
              "    </script>\n",
              "  </div>\n",
              "\n",
              "\n",
              "<div id=\"df-fa473da7-25d5-424d-b3f7-afb584d4c537\">\n",
              "  <button class=\"colab-df-quickchart\" onclick=\"quickchart('df-fa473da7-25d5-424d-b3f7-afb584d4c537')\"\n",
              "            title=\"Suggest charts\"\n",
              "            style=\"display:none;\">\n",
              "\n",
              "<svg xmlns=\"http://www.w3.org/2000/svg\" height=\"24px\"viewBox=\"0 0 24 24\"\n",
              "     width=\"24px\">\n",
              "    <g>\n",
              "        <path d=\"M19 3H5c-1.1 0-2 .9-2 2v14c0 1.1.9 2 2 2h14c1.1 0 2-.9 2-2V5c0-1.1-.9-2-2-2zM9 17H7v-7h2v7zm4 0h-2V7h2v10zm4 0h-2v-4h2v4z\"/>\n",
              "    </g>\n",
              "</svg>\n",
              "  </button>\n",
              "\n",
              "<style>\n",
              "  .colab-df-quickchart {\n",
              "      --bg-color: #E8F0FE;\n",
              "      --fill-color: #1967D2;\n",
              "      --hover-bg-color: #E2EBFA;\n",
              "      --hover-fill-color: #174EA6;\n",
              "      --disabled-fill-color: #AAA;\n",
              "      --disabled-bg-color: #DDD;\n",
              "  }\n",
              "\n",
              "  [theme=dark] .colab-df-quickchart {\n",
              "      --bg-color: #3B4455;\n",
              "      --fill-color: #D2E3FC;\n",
              "      --hover-bg-color: #434B5C;\n",
              "      --hover-fill-color: #FFFFFF;\n",
              "      --disabled-bg-color: #3B4455;\n",
              "      --disabled-fill-color: #666;\n",
              "  }\n",
              "\n",
              "  .colab-df-quickchart {\n",
              "    background-color: var(--bg-color);\n",
              "    border: none;\n",
              "    border-radius: 50%;\n",
              "    cursor: pointer;\n",
              "    display: none;\n",
              "    fill: var(--fill-color);\n",
              "    height: 32px;\n",
              "    padding: 0;\n",
              "    width: 32px;\n",
              "  }\n",
              "\n",
              "  .colab-df-quickchart:hover {\n",
              "    background-color: var(--hover-bg-color);\n",
              "    box-shadow: 0 1px 2px rgba(60, 64, 67, 0.3), 0 1px 3px 1px rgba(60, 64, 67, 0.15);\n",
              "    fill: var(--button-hover-fill-color);\n",
              "  }\n",
              "\n",
              "  .colab-df-quickchart-complete:disabled,\n",
              "  .colab-df-quickchart-complete:disabled:hover {\n",
              "    background-color: var(--disabled-bg-color);\n",
              "    fill: var(--disabled-fill-color);\n",
              "    box-shadow: none;\n",
              "  }\n",
              "\n",
              "  .colab-df-spinner {\n",
              "    border: 2px solid var(--fill-color);\n",
              "    border-color: transparent;\n",
              "    border-bottom-color: var(--fill-color);\n",
              "    animation:\n",
              "      spin 1s steps(1) infinite;\n",
              "  }\n",
              "\n",
              "  @keyframes spin {\n",
              "    0% {\n",
              "      border-color: transparent;\n",
              "      border-bottom-color: var(--fill-color);\n",
              "      border-left-color: var(--fill-color);\n",
              "    }\n",
              "    20% {\n",
              "      border-color: transparent;\n",
              "      border-left-color: var(--fill-color);\n",
              "      border-top-color: var(--fill-color);\n",
              "    }\n",
              "    30% {\n",
              "      border-color: transparent;\n",
              "      border-left-color: var(--fill-color);\n",
              "      border-top-color: var(--fill-color);\n",
              "      border-right-color: var(--fill-color);\n",
              "    }\n",
              "    40% {\n",
              "      border-color: transparent;\n",
              "      border-right-color: var(--fill-color);\n",
              "      border-top-color: var(--fill-color);\n",
              "    }\n",
              "    60% {\n",
              "      border-color: transparent;\n",
              "      border-right-color: var(--fill-color);\n",
              "    }\n",
              "    80% {\n",
              "      border-color: transparent;\n",
              "      border-right-color: var(--fill-color);\n",
              "      border-bottom-color: var(--fill-color);\n",
              "    }\n",
              "    90% {\n",
              "      border-color: transparent;\n",
              "      border-bottom-color: var(--fill-color);\n",
              "    }\n",
              "  }\n",
              "</style>\n",
              "\n",
              "  <script>\n",
              "    async function quickchart(key) {\n",
              "      const quickchartButtonEl =\n",
              "        document.querySelector('#' + key + ' button');\n",
              "      quickchartButtonEl.disabled = true;  // To prevent multiple clicks.\n",
              "      quickchartButtonEl.classList.add('colab-df-spinner');\n",
              "      try {\n",
              "        const charts = await google.colab.kernel.invokeFunction(\n",
              "            'suggestCharts', [key], {});\n",
              "      } catch (error) {\n",
              "        console.error('Error during call to suggestCharts:', error);\n",
              "      }\n",
              "      quickchartButtonEl.classList.remove('colab-df-spinner');\n",
              "      quickchartButtonEl.classList.add('colab-df-quickchart-complete');\n",
              "    }\n",
              "    (() => {\n",
              "      let quickchartButtonEl =\n",
              "        document.querySelector('#df-fa473da7-25d5-424d-b3f7-afb584d4c537 button');\n",
              "      quickchartButtonEl.style.display =\n",
              "        google.colab.kernel.accessAllowed ? 'block' : 'none';\n",
              "    })();\n",
              "  </script>\n",
              "</div>\n",
              "    </div>\n",
              "  </div>\n"
            ]
          },
          "metadata": {},
          "execution_count": 9
        }
      ],
      "source": [
        "metadata.isna()"
      ]
    },
    {
      "cell_type": "code",
      "execution_count": 10,
      "metadata": {
        "colab": {
          "base_uri": "https://localhost:8080/"
        },
        "id": "uA66bWu1QEcS",
        "outputId": "d4e26256-bd17-405c-fbd9-ceb0ae268408"
      },
      "outputs": [
        {
          "output_type": "stream",
          "name": "stdout",
          "text": [
            "False    199\n",
            "True      52\n",
            "Name: yearbuilt, dtype: int64\n",
            "\n",
            "\n",
            "False    224\n",
            "True      27\n",
            "Name: numberoffloors, dtype: int64\n",
            "\n",
            "\n",
            "True     138\n",
            "False    113\n",
            "Name: occupants, dtype: int64\n",
            "\n",
            "\n"
          ]
        }
      ],
      "source": [
        "for c in metadata.columns:\n",
        "    if len(metadata[c].isna().unique())>1:\n",
        "        print(metadata[c].isna().value_counts())\n",
        "        print(\"\\n\")"
      ]
    },
    {
      "cell_type": "markdown",
      "metadata": {
        "id": "zkEQkPh4QEcS"
      },
      "source": [
        "### Dealing with missing values"
      ]
    },
    {
      "cell_type": "markdown",
      "metadata": {
        "id": "1zZFgxdwQEcS"
      },
      "source": [
        "**First questions to ask:**\n",
        "\n",
        "* Why is the data missing (is there any logic in it)?\n",
        "* What is the distribution of the missing data?"
      ]
    },
    {
      "cell_type": "markdown",
      "metadata": {
        "id": "dCY1ekGsQEcS"
      },
      "source": [
        "**Choose the strategy based on your findings:**\n",
        "\n",
        "* Delete (rows or columns)\n",
        "* Inserting a representative value (mean, median or the most likely to occur in these entries)\n",
        "* Fill missing values manually 🙂\n",
        "* Create a new column that would flag that the value is missing (e.g. Missing_built_year with 0 and 1 showing whether the values are missing) and use a special value in the original column. Increases the difficulty of the data mining process.\n",
        "* Use data mining methods to estimate the missing value based on the rest of the dataset. Used when the feature is considered important and there is a substantial set of non-missing observations for this feature."
      ]
    },
    {
      "cell_type": "markdown",
      "metadata": {
        "id": "ibEuL1XZQEcS"
      },
      "source": [
        "## Model Imputation methods"
      ]
    },
    {
      "cell_type": "markdown",
      "metadata": {
        "id": "NaF1-gv8QEcS"
      },
      "source": [
        "Let's go through different imputation methods. Note: these are not the best methods for each column, but rather a"
      ]
    },
    {
      "cell_type": "markdown",
      "metadata": {
        "id": "DKOYUsfnQEcS"
      },
      "source": [
        "### 🫧 Single value"
      ]
    },
    {
      "cell_type": "markdown",
      "metadata": {
        "id": "2gFQ2QosQEcS"
      },
      "source": [
        "Methods for getting `min`, `max`, `mean`, `median`:\n",
        "\n",
        "`df[column_name].min()`\n",
        "\n",
        "👍🏻"
      ]
    },
    {
      "cell_type": "markdown",
      "metadata": {
        "id": "6qGW4MnoQEcS"
      },
      "source": [
        "What could the advantages and disadvantages be when using this method with our data?"
      ]
    },
    {
      "cell_type": "markdown",
      "metadata": {
        "id": "0_vAP1q6QEcS"
      },
      "source": [
        "### 🫧 Nearest neighbours"
      ]
    },
    {
      "cell_type": "markdown",
      "metadata": {
        "id": "w97uV34OQEcS"
      },
      "source": [
        "[Algorithm in 94 seconds](https://www.youtube.com/watch?v=zeFt_JCA3b4)"
      ]
    },
    {
      "cell_type": "code",
      "execution_count": 11,
      "metadata": {
        "colab": {
          "base_uri": "https://localhost:8080/",
          "height": 74
        },
        "id": "CbNT1jV3QEcS",
        "outputId": "fee69bd7-c3f1-4df2-b4f8-39e72ae55a64"
      },
      "outputs": [
        {
          "output_type": "execute_result",
          "data": {
            "text/plain": [
              "KNeighborsRegressor()"
            ],
            "text/html": [
              "<style>#sk-container-id-1 {color: black;background-color: white;}#sk-container-id-1 pre{padding: 0;}#sk-container-id-1 div.sk-toggleable {background-color: white;}#sk-container-id-1 label.sk-toggleable__label {cursor: pointer;display: block;width: 100%;margin-bottom: 0;padding: 0.3em;box-sizing: border-box;text-align: center;}#sk-container-id-1 label.sk-toggleable__label-arrow:before {content: \"▸\";float: left;margin-right: 0.25em;color: #696969;}#sk-container-id-1 label.sk-toggleable__label-arrow:hover:before {color: black;}#sk-container-id-1 div.sk-estimator:hover label.sk-toggleable__label-arrow:before {color: black;}#sk-container-id-1 div.sk-toggleable__content {max-height: 0;max-width: 0;overflow: hidden;text-align: left;background-color: #f0f8ff;}#sk-container-id-1 div.sk-toggleable__content pre {margin: 0.2em;color: black;border-radius: 0.25em;background-color: #f0f8ff;}#sk-container-id-1 input.sk-toggleable__control:checked~div.sk-toggleable__content {max-height: 200px;max-width: 100%;overflow: auto;}#sk-container-id-1 input.sk-toggleable__control:checked~label.sk-toggleable__label-arrow:before {content: \"▾\";}#sk-container-id-1 div.sk-estimator input.sk-toggleable__control:checked~label.sk-toggleable__label {background-color: #d4ebff;}#sk-container-id-1 div.sk-label input.sk-toggleable__control:checked~label.sk-toggleable__label {background-color: #d4ebff;}#sk-container-id-1 input.sk-hidden--visually {border: 0;clip: rect(1px 1px 1px 1px);clip: rect(1px, 1px, 1px, 1px);height: 1px;margin: -1px;overflow: hidden;padding: 0;position: absolute;width: 1px;}#sk-container-id-1 div.sk-estimator {font-family: monospace;background-color: #f0f8ff;border: 1px dotted black;border-radius: 0.25em;box-sizing: border-box;margin-bottom: 0.5em;}#sk-container-id-1 div.sk-estimator:hover {background-color: #d4ebff;}#sk-container-id-1 div.sk-parallel-item::after {content: \"\";width: 100%;border-bottom: 1px solid gray;flex-grow: 1;}#sk-container-id-1 div.sk-label:hover label.sk-toggleable__label {background-color: #d4ebff;}#sk-container-id-1 div.sk-serial::before {content: \"\";position: absolute;border-left: 1px solid gray;box-sizing: border-box;top: 0;bottom: 0;left: 50%;z-index: 0;}#sk-container-id-1 div.sk-serial {display: flex;flex-direction: column;align-items: center;background-color: white;padding-right: 0.2em;padding-left: 0.2em;position: relative;}#sk-container-id-1 div.sk-item {position: relative;z-index: 1;}#sk-container-id-1 div.sk-parallel {display: flex;align-items: stretch;justify-content: center;background-color: white;position: relative;}#sk-container-id-1 div.sk-item::before, #sk-container-id-1 div.sk-parallel-item::before {content: \"\";position: absolute;border-left: 1px solid gray;box-sizing: border-box;top: 0;bottom: 0;left: 50%;z-index: -1;}#sk-container-id-1 div.sk-parallel-item {display: flex;flex-direction: column;z-index: 1;position: relative;background-color: white;}#sk-container-id-1 div.sk-parallel-item:first-child::after {align-self: flex-end;width: 50%;}#sk-container-id-1 div.sk-parallel-item:last-child::after {align-self: flex-start;width: 50%;}#sk-container-id-1 div.sk-parallel-item:only-child::after {width: 0;}#sk-container-id-1 div.sk-dashed-wrapped {border: 1px dashed gray;margin: 0 0.4em 0.5em 0.4em;box-sizing: border-box;padding-bottom: 0.4em;background-color: white;}#sk-container-id-1 div.sk-label label {font-family: monospace;font-weight: bold;display: inline-block;line-height: 1.2em;}#sk-container-id-1 div.sk-label-container {text-align: center;}#sk-container-id-1 div.sk-container {/* jupyter's `normalize.less` sets `[hidden] { display: none; }` but bootstrap.min.css set `[hidden] { display: none !important; }` so we also need the `!important` here to be able to override the default hidden behavior on the sphinx rendered scikit-learn.org. See: https://github.com/scikit-learn/scikit-learn/issues/21755 */display: inline-block !important;position: relative;}#sk-container-id-1 div.sk-text-repr-fallback {display: none;}</style><div id=\"sk-container-id-1\" class=\"sk-top-container\"><div class=\"sk-text-repr-fallback\"><pre>KNeighborsRegressor()</pre><b>In a Jupyter environment, please rerun this cell to show the HTML representation or trust the notebook. <br />On GitHub, the HTML representation is unable to render, please try loading this page with nbviewer.org.</b></div><div class=\"sk-container\" hidden><div class=\"sk-item\"><div class=\"sk-estimator sk-toggleable\"><input class=\"sk-toggleable__control sk-hidden--visually\" id=\"sk-estimator-id-1\" type=\"checkbox\" checked><label for=\"sk-estimator-id-1\" class=\"sk-toggleable__label sk-toggleable__label-arrow\">KNeighborsRegressor</label><div class=\"sk-toggleable__content\"><pre>KNeighborsRegressor()</pre></div></div></div></div></div>"
            ]
          },
          "metadata": {},
          "execution_count": 11
        }
      ],
      "source": [
        "from sklearn.neighbors import KNeighborsRegressor\n",
        "model = KNeighborsRegressor(n_neighbors=5)\n",
        "cols_to_drop = [\"occupants\", \"numberoffloors\", \"yearbuilt\"] #, \"building_id\"]\n",
        "X = metadata.loc[metadata[\"occupants\"].isna()==False].drop(columns=cols_to_drop)\n",
        "Y = metadata.loc[metadata[\"occupants\"].isna()==False][\"occupants\"]\n",
        "missing_X = metadata.loc[metadata[\"occupants\"].isna()].drop(columns=cols_to_drop)\n",
        "model.fit(X, Y)"
      ]
    },
    {
      "cell_type": "code",
      "execution_count": 12,
      "metadata": {
        "colab": {
          "base_uri": "https://localhost:8080/"
        },
        "id": "6vsIWahIQEcT",
        "outputId": "9cbf8f97-e153-4d76-b5ed-0d3b356713e1"
      },
      "outputs": [
        {
          "output_type": "execute_result",
          "data": {
            "text/plain": [
              "array([ 195.8,   18.2, 1156.4,  745.6,  344.8,  359.6, 1019.8,  341.8,\n",
              "       1156.4, 1082. , 1260.6,  336.6,  194.8, 1256.2,  832. ,  507. ,\n",
              "       1160.8,  745.6,  344.8,  336.6,  184.4,  294.2,  359.6, 1043.8,\n",
              "       1043.8,  344.8,  415.4,  745.6,  415.4,  195.8,  415.4,  334.6,\n",
              "        415.4,  865.6,  344.8,  195.8,  164.6,  164.6,  173.6,  344.8,\n",
              "         81.4,  390.6,  745.6,  966. ,  745.6,  415.4,  395.8,   99.6,\n",
              "        195.8,  184.4,  371.4,  239.6,   18.2,  957.2,  425. ,   66.6,\n",
              "        131. ,  193.2,   37.8,  407.8,   82.4,  344.8,   71.4,  195.8,\n",
              "         82.4,   71.8,  425. ,  160.2,   66.6,  164.6,   71.8,   37.8,\n",
              "        129.8,  365.6, 1160.8,  216.4,   53.8,  193.2,  205.6,  365.6,\n",
              "         54.6,  165.4,  129.8,  175. ,   18.2,  351.6,  129.8,   53.8,\n",
              "         34.8,  376.2,  333.6,  182. ,  307.8,  397.6,  195.8, 1019.8,\n",
              "         18.2,   71. ,  351.6,   23.4,   59.4,  348.8, 1214.8,   23.4,\n",
              "        357.4,  359.6, 1160.8,  359.4,  884.4, 1050.2, 1050.2,  857.6,\n",
              "        195.8,  359.6,  164.6,  273.2,  884.4,  832. ,  507. ,  376.6,\n",
              "        745.6,  865.6,  507. ,  164.6,  415.4,  344.8, 1320.6,   99.6,\n",
              "        334.6, 1214.8,  865.6,  966. ,  966. ,  966. ,  344.8,  165. ,\n",
              "        336.6,  415.4])"
            ]
          },
          "metadata": {},
          "execution_count": 12
        }
      ],
      "source": [
        "missing_Y = model.predict(missing_X)\n",
        "missing_Y"
      ]
    },
    {
      "cell_type": "markdown",
      "metadata": {
        "id": "76ShGS8kQEcT"
      },
      "source": [
        "Thinking about how the algorithm works, do you think some columns are more important than the others? Are there any columns that are not important?"
      ]
    },
    {
      "cell_type": "code",
      "execution_count": 13,
      "metadata": {
        "colab": {
          "base_uri": "https://localhost:8080/"
        },
        "id": "jMUqmsf7QEcT",
        "outputId": "ba7dbf69-e786-43cd-a79d-477d1e6e9c82"
      },
      "outputs": [
        {
          "output_type": "execute_result",
          "data": {
            "text/plain": [
              "array([ 195.8,   18.2, 1156.4,  756.2,  344.8,  385.6, 1019.8,  397.6,\n",
              "       1156.4, 1082. , 1260.6,  364.4,  122.2, 1256.2,  832. ,  507. ,\n",
              "       1160.8,  745.6,  344.8,  364.4,  193.6,  331.4,  366.6, 1043.8,\n",
              "       1043.8,  344.8,  415.4,  745.6,  415.4,  195.8,  415.4,  334.6,\n",
              "        415.4, 1019.8,  344.8,  195.8,  164.6,  164.6,  193.2,  344.8,\n",
              "        142. ,  397.6,  745.6,  966. ,  745.6,  415.4,  363. ,  113.2,\n",
              "        195.8,  130. ,  346. ,  244.4,   18.2,  957.2,  341.8,   41.6,\n",
              "        161.4,  193.2,   18.2,  385.6,   81.4,  344.8,   41.6,  195.8,\n",
              "        106.4,   66.2,  341.8,  122.2,   41.6,  164.6,   85.8,   18.2,\n",
              "        113.2,  364.4, 1160.8,  193.6,   41.6,  193.2,  295.6,  346. ,\n",
              "         71.4,   81.4,  113.2,   70. ,   18.2,  351.6,  169. ,   41.6,\n",
              "         18.2,  363. ,  301.2,  146.2,  378.2,  397.6,  195.8, 1019.8,\n",
              "         18.2,  142. ,  334.6,   66.2,   85.8,  377.6, 1214.8,   71.4,\n",
              "        392. ,  385.6, 1160.8,  430.6,  884.4, 1050.2, 1050.2,  857.6,\n",
              "        195.8,  414.6,  164.6,  331.4,  884.4,  832. ,  507. ,  354.4,\n",
              "        745.6,  865.6,  507. ,  164.6,  415.4,  344.8, 1320.6,  106.4,\n",
              "        334.6, 1214.8,  865.6,  966. ,  966. ,  966. ,  344.8,  158.4,\n",
              "        364.4,  415.4])"
            ]
          },
          "metadata": {},
          "execution_count": 13
        }
      ],
      "source": [
        "model = KNeighborsRegressor(n_neighbors=5)\n",
        "cols_to_drop = [\"occupants\", \"numberoffloors\", \"yearbuilt\", \"building_id\"]\n",
        "X = metadata.loc[metadata[\"occupants\"].isna()==False].drop(columns=cols_to_drop)\n",
        "Y = metadata.loc[metadata[\"occupants\"].isna()==False][\"occupants\"]\n",
        "missing_X = metadata.loc[metadata[\"occupants\"].isna()].drop(columns=cols_to_drop)\n",
        "model.fit(X, Y)\n",
        "missing_Y = model.predict(missing_X)\n",
        "missing_Y"
      ]
    },
    {
      "cell_type": "markdown",
      "metadata": {
        "id": "SwoEa_PbQEcT"
      },
      "source": [
        "#### Data scaling"
      ]
    },
    {
      "cell_type": "markdown",
      "metadata": {
        "id": "d5MvTSKyQEcT"
      },
      "source": [
        "![data scaling illustration](https://miro.medium.com/v2/resize:fit:1400/1*yR54MSI1jjnf2QeGtt57PA.png)"
      ]
    },
    {
      "cell_type": "code",
      "execution_count": 14,
      "metadata": {
        "colab": {
          "base_uri": "https://localhost:8080/"
        },
        "id": "QnYf8pVFQEcT",
        "outputId": "f9abbed9-5f32-4add-8178-681071ca9650"
      },
      "outputs": [
        {
          "output_type": "execute_result",
          "data": {
            "text/plain": [
              "array([ 306.8,  306.8,  451. ,  379.2,  306.8,  306.8,  542.4,  216. ,\n",
              "        451. ,  542.4,  542.4,  306.8,  216. ,  470.6,  451. ,  306.8,\n",
              "        522.2,  306.8,  306.8,  344.8,  306.8,  306.8,  432. ,  485. ,\n",
              "        485. ,  485. ,  485. ,  485. ,  489. ,  485. ,  485. ,  432. ,\n",
              "        379.2,  485. ,  485. ,  485. ,  485. ,  489. ,  355. ,  489. ,\n",
              "        379.2,  485. ,  485. ,  485. ,  485. ,  485. ,  485. ,  379.2,\n",
              "        485. ,  379.2,  485. ,  485. ,   36.4,  853. ,  116.6,  159.8,\n",
              "         64.4,   56.6,  122.4,  135.8,   64.4,  120.4,   29.2,  135.8,\n",
              "         29.2,   29.2,  116.6,   65.2,  122.4,  148.6,  299.2,  159.8,\n",
              "        138.2,  340.2, 1275.8,  261.8,  232.6,  283.2,   68.8,  299.2,\n",
              "         56.4,   56.4,   56.4,   56.4,   56.4,  271. ,  212.4,  221.2,\n",
              "        295. ,  339.2,  330.6,  299.2,  294. ,  299.2,  289.2,  397. ,\n",
              "        151.4,  283.8,  306.8,  122.4,   82. ,  340.2,  542.4,  311.4,\n",
              "        306.8,  306.8, 1465.6,  283.8, 1323.2,  485. ,  561.4,  397. ,\n",
              "        306.8,  340.2,  200.6,  306.8, 1275. ,  397. ,  311.4,  340.2,\n",
              "        311.4, 1042.2,  311.4,  255.6,  311.4,  311.4, 1042.2,  208.4,\n",
              "        311.4, 1042.2, 1042.2,  416. ,  416. ,  416. ,   36.4,   36.4,\n",
              "         32.8,  116. ])"
            ]
          },
          "metadata": {},
          "execution_count": 14
        }
      ],
      "source": [
        "from sklearn.preprocessing import MinMaxScaler\n",
        "\n",
        "scaler = MinMaxScaler()\n",
        "X_scaled = scaler.fit_transform(X)\n",
        "missing_X_scaled = scaler.fit_transform(missing_X)\n",
        "\n",
        "model.fit(X_scaled, Y)\n",
        "missing_Y = model.predict(missing_X_scaled)\n",
        "missing_Y"
      ]
    },
    {
      "cell_type": "markdown",
      "metadata": {
        "id": "1_WO4glXQEcT"
      },
      "source": [
        "Have you noticed anything that doesn't turn with the predicted values?"
      ]
    },
    {
      "cell_type": "code",
      "execution_count": 15,
      "metadata": {
        "id": "WwXCBuhaQEcT"
      },
      "outputs": [],
      "source": [
        "missing_Y = missing_Y.astype(int)"
      ]
    },
    {
      "cell_type": "markdown",
      "metadata": {
        "id": "ljYbHg-XQEcT"
      },
      "source": [
        "#### Assigning generated values to the column"
      ]
    },
    {
      "cell_type": "code",
      "execution_count": 16,
      "metadata": {
        "colab": {
          "base_uri": "https://localhost:8080/"
        },
        "id": "ldRJTKpcQEcT",
        "outputId": "1a62a62f-6178-4273-e287-9803bd6a0308"
      },
      "outputs": [
        {
          "output_type": "stream",
          "name": "stderr",
          "text": [
            "<ipython-input-16-7d3f308bea34>:1: SettingWithCopyWarning: \n",
            "A value is trying to be set on a copy of a slice from a DataFrame\n",
            "\n",
            "See the caveats in the documentation: https://pandas.pydata.org/pandas-docs/stable/user_guide/indexing.html#returning-a-view-versus-a-copy\n",
            "  metadata[\"occupants\"].loc[metadata[\"occupants\"].isna()] = missing_Y\n"
          ]
        }
      ],
      "source": [
        "metadata[\"occupants\"].loc[metadata[\"occupants\"].isna()] = missing_Y"
      ]
    },
    {
      "cell_type": "markdown",
      "metadata": {
        "id": "FgrIFTuvQEcT"
      },
      "source": [
        "### 🫧 Decision Tree"
      ]
    },
    {
      "cell_type": "markdown",
      "metadata": {
        "id": "tY1G_rhjQEcT"
      },
      "source": [
        "![decision tree illustration](https://cdn-images-1.medium.com/max/778/1*OLJWt9hD2zTS-x3gRhYuqg.png)"
      ]
    },
    {
      "cell_type": "code",
      "execution_count": 17,
      "metadata": {
        "colab": {
          "base_uri": "https://localhost:8080/",
          "height": 74
        },
        "id": "8q9JfvF9QEcT",
        "outputId": "b6b3fa49-6d2b-433f-bdf1-7ca7848436b1"
      },
      "outputs": [
        {
          "output_type": "execute_result",
          "data": {
            "text/plain": [
              "DecisionTreeRegressor()"
            ],
            "text/html": [
              "<style>#sk-container-id-2 {color: black;background-color: white;}#sk-container-id-2 pre{padding: 0;}#sk-container-id-2 div.sk-toggleable {background-color: white;}#sk-container-id-2 label.sk-toggleable__label {cursor: pointer;display: block;width: 100%;margin-bottom: 0;padding: 0.3em;box-sizing: border-box;text-align: center;}#sk-container-id-2 label.sk-toggleable__label-arrow:before {content: \"▸\";float: left;margin-right: 0.25em;color: #696969;}#sk-container-id-2 label.sk-toggleable__label-arrow:hover:before {color: black;}#sk-container-id-2 div.sk-estimator:hover label.sk-toggleable__label-arrow:before {color: black;}#sk-container-id-2 div.sk-toggleable__content {max-height: 0;max-width: 0;overflow: hidden;text-align: left;background-color: #f0f8ff;}#sk-container-id-2 div.sk-toggleable__content pre {margin: 0.2em;color: black;border-radius: 0.25em;background-color: #f0f8ff;}#sk-container-id-2 input.sk-toggleable__control:checked~div.sk-toggleable__content {max-height: 200px;max-width: 100%;overflow: auto;}#sk-container-id-2 input.sk-toggleable__control:checked~label.sk-toggleable__label-arrow:before {content: \"▾\";}#sk-container-id-2 div.sk-estimator input.sk-toggleable__control:checked~label.sk-toggleable__label {background-color: #d4ebff;}#sk-container-id-2 div.sk-label input.sk-toggleable__control:checked~label.sk-toggleable__label {background-color: #d4ebff;}#sk-container-id-2 input.sk-hidden--visually {border: 0;clip: rect(1px 1px 1px 1px);clip: rect(1px, 1px, 1px, 1px);height: 1px;margin: -1px;overflow: hidden;padding: 0;position: absolute;width: 1px;}#sk-container-id-2 div.sk-estimator {font-family: monospace;background-color: #f0f8ff;border: 1px dotted black;border-radius: 0.25em;box-sizing: border-box;margin-bottom: 0.5em;}#sk-container-id-2 div.sk-estimator:hover {background-color: #d4ebff;}#sk-container-id-2 div.sk-parallel-item::after {content: \"\";width: 100%;border-bottom: 1px solid gray;flex-grow: 1;}#sk-container-id-2 div.sk-label:hover label.sk-toggleable__label {background-color: #d4ebff;}#sk-container-id-2 div.sk-serial::before {content: \"\";position: absolute;border-left: 1px solid gray;box-sizing: border-box;top: 0;bottom: 0;left: 50%;z-index: 0;}#sk-container-id-2 div.sk-serial {display: flex;flex-direction: column;align-items: center;background-color: white;padding-right: 0.2em;padding-left: 0.2em;position: relative;}#sk-container-id-2 div.sk-item {position: relative;z-index: 1;}#sk-container-id-2 div.sk-parallel {display: flex;align-items: stretch;justify-content: center;background-color: white;position: relative;}#sk-container-id-2 div.sk-item::before, #sk-container-id-2 div.sk-parallel-item::before {content: \"\";position: absolute;border-left: 1px solid gray;box-sizing: border-box;top: 0;bottom: 0;left: 50%;z-index: -1;}#sk-container-id-2 div.sk-parallel-item {display: flex;flex-direction: column;z-index: 1;position: relative;background-color: white;}#sk-container-id-2 div.sk-parallel-item:first-child::after {align-self: flex-end;width: 50%;}#sk-container-id-2 div.sk-parallel-item:last-child::after {align-self: flex-start;width: 50%;}#sk-container-id-2 div.sk-parallel-item:only-child::after {width: 0;}#sk-container-id-2 div.sk-dashed-wrapped {border: 1px dashed gray;margin: 0 0.4em 0.5em 0.4em;box-sizing: border-box;padding-bottom: 0.4em;background-color: white;}#sk-container-id-2 div.sk-label label {font-family: monospace;font-weight: bold;display: inline-block;line-height: 1.2em;}#sk-container-id-2 div.sk-label-container {text-align: center;}#sk-container-id-2 div.sk-container {/* jupyter's `normalize.less` sets `[hidden] { display: none; }` but bootstrap.min.css set `[hidden] { display: none !important; }` so we also need the `!important` here to be able to override the default hidden behavior on the sphinx rendered scikit-learn.org. See: https://github.com/scikit-learn/scikit-learn/issues/21755 */display: inline-block !important;position: relative;}#sk-container-id-2 div.sk-text-repr-fallback {display: none;}</style><div id=\"sk-container-id-2\" class=\"sk-top-container\"><div class=\"sk-text-repr-fallback\"><pre>DecisionTreeRegressor()</pre><b>In a Jupyter environment, please rerun this cell to show the HTML representation or trust the notebook. <br />On GitHub, the HTML representation is unable to render, please try loading this page with nbviewer.org.</b></div><div class=\"sk-container\" hidden><div class=\"sk-item\"><div class=\"sk-estimator sk-toggleable\"><input class=\"sk-toggleable__control sk-hidden--visually\" id=\"sk-estimator-id-2\" type=\"checkbox\" checked><label for=\"sk-estimator-id-2\" class=\"sk-toggleable__label sk-toggleable__label-arrow\">DecisionTreeRegressor</label><div class=\"sk-toggleable__content\"><pre>DecisionTreeRegressor()</pre></div></div></div></div></div>"
            ]
          },
          "metadata": {},
          "execution_count": 17
        }
      ],
      "source": [
        "from sklearn.tree import DecisionTreeRegressor\n",
        "\n",
        "cols_to_drop = [\"numberoffloors\", \"yearbuilt\"]\n",
        "\n",
        "X = metadata.loc[metadata[\"yearbuilt\"].isna()==False].drop(columns=cols_to_drop)\n",
        "Y = metadata.loc[metadata[\"yearbuilt\"].isna()==False][\"yearbuilt\"]\n",
        "missing_X = metadata.loc[metadata[\"yearbuilt\"].isna()].drop(columns=cols_to_drop)\n",
        "\n",
        "tree = DecisionTreeRegressor()\n",
        "tree.fit(X, Y)"
      ]
    },
    {
      "cell_type": "code",
      "execution_count": 18,
      "metadata": {
        "colab": {
          "base_uri": "https://localhost:8080/"
        },
        "id": "OfmHi_6bQEcU",
        "outputId": "50b330cd-3072-4d60-f53c-bc29ee068155"
      },
      "outputs": [
        {
          "output_type": "stream",
          "name": "stdout",
          "text": [
            "building_id       \t\t0.31\n",
            "sqm               \t\t0.27\n",
            "occupants         \t\t0.18\n",
            "rating            \t\t0.09\n",
            "sub_primaryspaceusage\t\t0.08\n",
            "subindustry       \t\t0.02\n",
            "industry          \t\t0.02\n",
            "primaryspaceusage \t\t0.01\n",
            "hotwater          \t\t0.01\n",
            "site_id           \t\t0.00\n",
            "gas               \t\t0.00\n",
            "water             \t\t0.00\n",
            "timezone          \t\t0.00\n",
            "electricity       \t\t0.00\n"
          ]
        }
      ],
      "source": [
        "zipped = [(x, i) for i,x in sorted(zip(tree.feature_importances_, X), reverse=True)]\n",
        "for f, v in zipped:\n",
        "    print(\"{:18s}\\t\\t{:.2f}\".format(f, v))"
      ]
    },
    {
      "cell_type": "markdown",
      "metadata": {
        "id": "d33lCppBQEcU"
      },
      "source": [
        "✨ **for the curious ones:**\n",
        "* [zip function ](https://www.programiz.com/python-programming/methods/built-in/zip)\n",
        "* [list comprehension](https://www.w3schools.com/python/python_lists_comprehension.asp)\n",
        "* [enumerate](https://www.geeksforgeeks.org/enumerate-in-python/)"
      ]
    },
    {
      "cell_type": "code",
      "execution_count": 19,
      "metadata": {
        "colab": {
          "base_uri": "https://localhost:8080/",
          "height": 74
        },
        "id": "uhKnLEMyQEcX",
        "outputId": "d99e7a86-ab6c-4465-eee6-1b8a64947dff"
      },
      "outputs": [
        {
          "output_type": "execute_result",
          "data": {
            "text/plain": [
              "DecisionTreeRegressor()"
            ],
            "text/html": [
              "<style>#sk-container-id-3 {color: black;background-color: white;}#sk-container-id-3 pre{padding: 0;}#sk-container-id-3 div.sk-toggleable {background-color: white;}#sk-container-id-3 label.sk-toggleable__label {cursor: pointer;display: block;width: 100%;margin-bottom: 0;padding: 0.3em;box-sizing: border-box;text-align: center;}#sk-container-id-3 label.sk-toggleable__label-arrow:before {content: \"▸\";float: left;margin-right: 0.25em;color: #696969;}#sk-container-id-3 label.sk-toggleable__label-arrow:hover:before {color: black;}#sk-container-id-3 div.sk-estimator:hover label.sk-toggleable__label-arrow:before {color: black;}#sk-container-id-3 div.sk-toggleable__content {max-height: 0;max-width: 0;overflow: hidden;text-align: left;background-color: #f0f8ff;}#sk-container-id-3 div.sk-toggleable__content pre {margin: 0.2em;color: black;border-radius: 0.25em;background-color: #f0f8ff;}#sk-container-id-3 input.sk-toggleable__control:checked~div.sk-toggleable__content {max-height: 200px;max-width: 100%;overflow: auto;}#sk-container-id-3 input.sk-toggleable__control:checked~label.sk-toggleable__label-arrow:before {content: \"▾\";}#sk-container-id-3 div.sk-estimator input.sk-toggleable__control:checked~label.sk-toggleable__label {background-color: #d4ebff;}#sk-container-id-3 div.sk-label input.sk-toggleable__control:checked~label.sk-toggleable__label {background-color: #d4ebff;}#sk-container-id-3 input.sk-hidden--visually {border: 0;clip: rect(1px 1px 1px 1px);clip: rect(1px, 1px, 1px, 1px);height: 1px;margin: -1px;overflow: hidden;padding: 0;position: absolute;width: 1px;}#sk-container-id-3 div.sk-estimator {font-family: monospace;background-color: #f0f8ff;border: 1px dotted black;border-radius: 0.25em;box-sizing: border-box;margin-bottom: 0.5em;}#sk-container-id-3 div.sk-estimator:hover {background-color: #d4ebff;}#sk-container-id-3 div.sk-parallel-item::after {content: \"\";width: 100%;border-bottom: 1px solid gray;flex-grow: 1;}#sk-container-id-3 div.sk-label:hover label.sk-toggleable__label {background-color: #d4ebff;}#sk-container-id-3 div.sk-serial::before {content: \"\";position: absolute;border-left: 1px solid gray;box-sizing: border-box;top: 0;bottom: 0;left: 50%;z-index: 0;}#sk-container-id-3 div.sk-serial {display: flex;flex-direction: column;align-items: center;background-color: white;padding-right: 0.2em;padding-left: 0.2em;position: relative;}#sk-container-id-3 div.sk-item {position: relative;z-index: 1;}#sk-container-id-3 div.sk-parallel {display: flex;align-items: stretch;justify-content: center;background-color: white;position: relative;}#sk-container-id-3 div.sk-item::before, #sk-container-id-3 div.sk-parallel-item::before {content: \"\";position: absolute;border-left: 1px solid gray;box-sizing: border-box;top: 0;bottom: 0;left: 50%;z-index: -1;}#sk-container-id-3 div.sk-parallel-item {display: flex;flex-direction: column;z-index: 1;position: relative;background-color: white;}#sk-container-id-3 div.sk-parallel-item:first-child::after {align-self: flex-end;width: 50%;}#sk-container-id-3 div.sk-parallel-item:last-child::after {align-self: flex-start;width: 50%;}#sk-container-id-3 div.sk-parallel-item:only-child::after {width: 0;}#sk-container-id-3 div.sk-dashed-wrapped {border: 1px dashed gray;margin: 0 0.4em 0.5em 0.4em;box-sizing: border-box;padding-bottom: 0.4em;background-color: white;}#sk-container-id-3 div.sk-label label {font-family: monospace;font-weight: bold;display: inline-block;line-height: 1.2em;}#sk-container-id-3 div.sk-label-container {text-align: center;}#sk-container-id-3 div.sk-container {/* jupyter's `normalize.less` sets `[hidden] { display: none; }` but bootstrap.min.css set `[hidden] { display: none !important; }` so we also need the `!important` here to be able to override the default hidden behavior on the sphinx rendered scikit-learn.org. See: https://github.com/scikit-learn/scikit-learn/issues/21755 */display: inline-block !important;position: relative;}#sk-container-id-3 div.sk-text-repr-fallback {display: none;}</style><div id=\"sk-container-id-3\" class=\"sk-top-container\"><div class=\"sk-text-repr-fallback\"><pre>DecisionTreeRegressor()</pre><b>In a Jupyter environment, please rerun this cell to show the HTML representation or trust the notebook. <br />On GitHub, the HTML representation is unable to render, please try loading this page with nbviewer.org.</b></div><div class=\"sk-container\" hidden><div class=\"sk-item\"><div class=\"sk-estimator sk-toggleable\"><input class=\"sk-toggleable__control sk-hidden--visually\" id=\"sk-estimator-id-3\" type=\"checkbox\" checked><label for=\"sk-estimator-id-3\" class=\"sk-toggleable__label sk-toggleable__label-arrow\">DecisionTreeRegressor</label><div class=\"sk-toggleable__content\"><pre>DecisionTreeRegressor()</pre></div></div></div></div></div>"
            ]
          },
          "metadata": {},
          "execution_count": 19
        }
      ],
      "source": [
        "cols_to_drop = [\"numberoffloors\", \"yearbuilt\", \"building_id\"]\n",
        "\n",
        "X = metadata.loc[metadata[\"yearbuilt\"].isna()==False].drop(columns=cols_to_drop)\n",
        "Y = metadata.loc[metadata[\"yearbuilt\"].isna()==False][\"yearbuilt\"]\n",
        "missing_X = metadata.loc[metadata[\"yearbuilt\"].isna()].drop(columns=cols_to_drop)\n",
        "\n",
        "tree = DecisionTreeRegressor()\n",
        "tree.fit(X, Y)"
      ]
    },
    {
      "cell_type": "code",
      "execution_count": 20,
      "metadata": {
        "colab": {
          "base_uri": "https://localhost:8080/"
        },
        "id": "87McCXpsQEcX",
        "outputId": "c1ec33bc-69e8-414f-e0d2-92fa198a334d"
      },
      "outputs": [
        {
          "output_type": "execute_result",
          "data": {
            "text/plain": [
              "array([1954., 2006., 2004., 1995., 1998., 1960., 1928., 1956., 1956.,\n",
              "       1960., 1919., 1976., 2000., 1937., 1906., 1913., 1976., 1919.,\n",
              "       1928., 1995., 1995., 1995., 1960., 1966., 1997., 1976., 1976.,\n",
              "       1907., 1968., 1960., 1976., 1913., 1928., 1995., 1900., 1976.,\n",
              "       1976., 1900., 1976., 1995., 1976., 1966., 1976., 1900., 1976.,\n",
              "       1954., 1968., 1976., 1954., 1968., 1966., 2004.])"
            ]
          },
          "metadata": {},
          "execution_count": 20
        }
      ],
      "source": [
        "tree.predict(missing_X)"
      ]
    },
    {
      "cell_type": "markdown",
      "metadata": {
        "id": "fl9OWU1CQEcX"
      },
      "source": [
        "#### 🧩 Task I - Assign predictions"
      ]
    },
    {
      "cell_type": "code",
      "source": [
        "metadata.corr()['yearbuilt']"
      ],
      "metadata": {
        "id": "Dyh2ttVcIiXp",
        "outputId": "57b64d3b-0ef9-406b-a13c-830dcdcad76e",
        "colab": {
          "base_uri": "https://localhost:8080/"
        }
      },
      "execution_count": 27,
      "outputs": [
        {
          "output_type": "execute_result",
          "data": {
            "text/plain": [
              "building_id             -0.072478\n",
              "site_id                 -0.094066\n",
              "primaryspaceusage       -0.087075\n",
              "sub_primaryspaceusage   -0.167929\n",
              "sqm                      0.047399\n",
              "timezone                      NaN\n",
              "electricity             -0.042167\n",
              "hotwater                 0.005377\n",
              "water                         NaN\n",
              "gas                     -0.067697\n",
              "industry                 0.072803\n",
              "subindustry              0.015982\n",
              "yearbuilt                1.000000\n",
              "numberoffloors          -0.063485\n",
              "occupants                0.001341\n",
              "rating                   0.027528\n",
              "Name: yearbuilt, dtype: float64"
            ]
          },
          "metadata": {},
          "execution_count": 27
        }
      ]
    },
    {
      "cell_type": "code",
      "source": [
        "metadata_non_encoded[\"yearbuilt\"].isna().index\n",
        "colmn_int=metadata_non_encoded.columns.get_loc('rating')\n",
        "int_int=metadata_non_encoded[\"yearbuilt\"].isna()\n",
        "\n",
        "metadata_non_encoded['rating'].shape\n",
        "print(metadata_non_encoded[\"yearbuilt\"].isna())\n",
        "\n",
        "\n"
      ],
      "metadata": {
        "id": "0xrOvEEVVoJY",
        "outputId": "3f3d5e85-c2cd-4e2b-add1-50499cf3be65",
        "colab": {
          "base_uri": "https://localhost:8080/"
        }
      },
      "execution_count": 171,
      "outputs": [
        {
          "output_type": "stream",
          "name": "stdout",
          "text": [
            "136      True\n",
            "137      True\n",
            "138     False\n",
            "139     False\n",
            "140     False\n",
            "        ...  \n",
            "1631    False\n",
            "1632    False\n",
            "1633     True\n",
            "1634    False\n",
            "1635    False\n",
            "Name: yearbuilt, Length: 251, dtype: bool\n"
          ]
        }
      ]
    },
    {
      "cell_type": "code",
      "source": [
        "sns.scatterplot(data=metadata_non_encoded,x=metadata_non_encoded[\"yearbuilt\"], y=metadata_non_encoded[\"rating\"].index,\n",
        "                size=metadata_non_encoded[\"numberoffloors\"],\n",
        "                legend=False,\n",
        "                sizes=(5, 1000),\n",
        "                cmap=\"Accent\",\n",
        "                alpha=0.6,\n",
        "                edgecolors=\"white\",\n",
        "                linewidth=2)\n"
      ],
      "metadata": {
        "id": "c6I9YGBVOd2f",
        "outputId": "ba2b8637-a1a8-4a45-b8b8-259d5739ced0",
        "colab": {
          "base_uri": "https://localhost:8080/",
          "height": 536
        }
      },
      "execution_count": 68,
      "outputs": [
        {
          "output_type": "stream",
          "name": "stderr",
          "text": [
            "/usr/local/lib/python3.10/dist-packages/seaborn/utils.py:105: UserWarning: No data for colormapping provided via 'c'. Parameters 'cmap' will be ignored\n",
            "  scout = method(scout_x, scout_y, **kws)\n",
            "/usr/local/lib/python3.10/dist-packages/seaborn/relational.py:433: UserWarning: No data for colormapping provided via 'c'. Parameters 'cmap' will be ignored\n",
            "  points = ax.scatter(x=x, y=y, **kws)\n"
          ]
        },
        {
          "output_type": "execute_result",
          "data": {
            "text/plain": [
              "<Axes: xlabel='yearbuilt', ylabel='None'>"
            ]
          },
          "metadata": {},
          "execution_count": 68
        },
        {
          "output_type": "display_data",
          "data": {
            "text/plain": [
              "<Figure size 640x480 with 1 Axes>"
            ],
            "image/png": "[encoded data removed]"
          },
          "metadata": {}
        }
      ]
    },
    {
      "cell_type": "code",
      "execution_count": null,
      "metadata": {
        "id": "mOYVvt8-QEcX",
        "outputId": "00560fa9-6cb6-4939-dbd8-7187e90aa922"
      },
      "outputs": [
        {
          "data": {
            "text/plain": [
              "136        NaN\n",
              "137        NaN\n",
              "138     2005.0\n",
              "139     1913.0\n",
              "140     1953.0\n",
              "         ...  \n",
              "1631    1936.0\n",
              "1632    1954.0\n",
              "1633       NaN\n",
              "1634    2006.0\n",
              "1635    1996.0\n",
              "Name: yearbuilt, Length: 251, dtype: float64"
            ]
          },
          "execution_count": 15,
          "metadata": {},
          "output_type": "execute_result"
        }
      ],
      "source": [
        "metadata[\"yearbuilt\"] # Your code here"
      ]
    },
    {
      "cell_type": "code",
      "execution_count": 21,
      "metadata": {
        "colab": {
          "base_uri": "https://localhost:8080/"
        },
        "id": "WwWAONb_QEcX",
        "outputId": "683a9e6e-d262-42e3-b170-73ef587b51f6"
      },
      "outputs": [
        {
          "output_type": "execute_result",
          "data": {
            "text/plain": [
              "136    NaN\n",
              "137    NaN\n",
              "143    NaN\n",
              "147    NaN\n",
              "158    NaN\n",
              "169    NaN\n",
              "171    NaN\n",
              "173    NaN\n",
              "174    NaN\n",
              "175    NaN\n",
              "176    NaN\n",
              "763    NaN\n",
              "1171   NaN\n",
              "1172   NaN\n",
              "1176   NaN\n",
              "1200   NaN\n",
              "1201   NaN\n",
              "1202   NaN\n",
              "1203   NaN\n",
              "1204   NaN\n",
              "1205   NaN\n",
              "1206   NaN\n",
              "1207   NaN\n",
              "1208   NaN\n",
              "1209   NaN\n",
              "1210   NaN\n",
              "1211   NaN\n",
              "1212   NaN\n",
              "1213   NaN\n",
              "1214   NaN\n",
              "1215   NaN\n",
              "1216   NaN\n",
              "1217   NaN\n",
              "1218   NaN\n",
              "1219   NaN\n",
              "1220   NaN\n",
              "1221   NaN\n",
              "1222   NaN\n",
              "1223   NaN\n",
              "1224   NaN\n",
              "1225   NaN\n",
              "1226   NaN\n",
              "1227   NaN\n",
              "1228   NaN\n",
              "1229   NaN\n",
              "1230   NaN\n",
              "1231   NaN\n",
              "1232   NaN\n",
              "1233   NaN\n",
              "1234   NaN\n",
              "1235   NaN\n",
              "1633   NaN\n",
              "Name: yearbuilt, dtype: float64"
            ]
          },
          "metadata": {},
          "execution_count": 21
        }
      ],
      "source": [
        "# check\n",
        "# should return an empty dataframe, as we are not supposed to have nan values anymore\n",
        "metadata[\"yearbuilt\"].loc[metadata[\"yearbuilt\"].isna()]"
      ]
    },
    {
      "cell_type": "markdown",
      "metadata": {
        "id": "uKV7Qo_JQEcX"
      },
      "source": [
        "#### ⚙️ Solution"
      ]
    },
    {
      "cell_type": "code",
      "execution_count": null,
      "metadata": {
        "id": "d_FSkZAmQEcX",
        "outputId": "3e827b3d-9ee0-49fc-94dc-c8572d7eacd0"
      },
      "outputs": [
        {
          "name": "stderr",
          "output_type": "stream",
          "text": [
            "/tmp/ipykernel_2372/2202934034.py:1: SettingWithCopyWarning: \n",
            "A value is trying to be set on a copy of a slice from a DataFrame\n",
            "\n",
            "See the caveats in the documentation: https://pandas.pydata.org/pandas-docs/stable/user_guide/indexing.html#returning-a-view-versus-a-copy\n",
            "  metadata[\"yearbuilt\"].loc[metadata[\"yearbuilt\"].isna()] = tree.predict(missing_X).astype(int)\n"
          ]
        }
      ],
      "source": [
        "metadata[\"yearbuilt\"].loc[metadata[\"yearbuilt\"].isna()] = tree.predict(missing_X).astype(int)"
      ]
    },
    {
      "cell_type": "markdown",
      "metadata": {
        "id": "YyP3sgI1QEcX"
      },
      "source": [
        "### 🎢 Saving our work"
      ]
    },
    {
      "cell_type": "code",
      "execution_count": null,
      "metadata": {
        "id": "chGVmkh7QEcY"
      },
      "outputs": [],
      "source": [
        "# full_df.to_csv(\"../../kaggle_data/tutorial_results/02.csv\")\n",
        "metadata.to_csv(\"../kaggle_data/tutorial_results/02_metadata.csv\")"
      ]
    }
  ],
  "metadata": {
    "kernelspec": {
      "display_name": "capacity",
      "language": "python",
      "name": "python3"
    },
    "language_info": {
      "codemirror_mode": {
        "name": "ipython",
        "version": 3
      },
      "file_extension": ".py",
      "mimetype": "text/x-python",
      "name": "python",
      "nbconvert_exporter": "python",
      "pygments_lexer": "ipython3",
      "version": "3.10.6"
    },
    "colab": {
      "provenance": []
    }
  },
  "nbformat": 4,
  "nbformat_minor": 0
}